{
 "cells": [
  {
   "cell_type": "code",
   "execution_count": 1,
   "id": "a6ed589b",
   "metadata": {},
   "outputs": [
    {
     "data": {
      "text/plain": [
       "'\\nANALYSIS OF lendingclub.com LOAN DATA\\n\\nMore than 10.000 borrowers that take loans.\\n\\n'"
      ]
     },
     "execution_count": 1,
     "metadata": {},
     "output_type": "execute_result"
    }
   ],
   "source": [
    "\"\"\"\n",
    "ANALYSIS OF lendingclub.com LOAN DATA\n",
    "\n",
    "More than 10.000 borrowers that take loans.\n",
    "\n",
    "\"\"\""
   ]
  },
  {
   "cell_type": "code",
   "execution_count": 108,
   "id": "9784b4e1",
   "metadata": {},
   "outputs": [],
   "source": [
    "# Load packages\n",
    "import numpy as np \n",
    "import pandas as pd \n",
    "import warnings\n",
    "\n",
    "import matplotlib.pyplot as plt\n",
    "import matplotlib.ticker as mtick\n",
    "import seaborn as sns\n",
    "\n",
    "warnings.filterwarnings('ignore')\n",
    "\n",
    "from sklearn.cluster import KMeans\n",
    "from sklearn.preprocessing import StandardScaler\n",
    "from sklearn.model_selection import train_test_split\n",
    "from sklearn.linear_model import LogisticRegression\n",
    "from sklearn.ensemble import RandomForestClassifier\n",
    "from sklearn.svm import SVC\n",
    "from xgboost import XGBClassifier\n",
    "from sklearn.metrics import recall_score, accuracy_score, roc_auc_score, f1_score, precision_score, roc_curve\n",
    "from sklearn.preprocessing import StandardScaler,  MinMaxScaler, PolynomialFeatures\n",
    "from sklearn.model_selection import GridSearchCV\n",
    "from sklearn.calibration import CalibratedClassifierCV"
   ]
  },
  {
   "cell_type": "code",
   "execution_count": 3,
   "id": "000b480c",
   "metadata": {},
   "outputs": [
    {
     "data": {
      "text/html": [
       "<div>\n",
       "<style scoped>\n",
       "    .dataframe tbody tr th:only-of-type {\n",
       "        vertical-align: middle;\n",
       "    }\n",
       "\n",
       "    .dataframe tbody tr th {\n",
       "        vertical-align: top;\n",
       "    }\n",
       "\n",
       "    .dataframe thead th {\n",
       "        text-align: right;\n",
       "    }\n",
       "</style>\n",
       "<table border=\"1\" class=\"dataframe\">\n",
       "  <thead>\n",
       "    <tr style=\"text-align: right;\">\n",
       "      <th></th>\n",
       "      <th>credit.policy</th>\n",
       "      <th>purpose</th>\n",
       "      <th>int.rate</th>\n",
       "      <th>installment</th>\n",
       "      <th>log.annual.inc</th>\n",
       "      <th>dti</th>\n",
       "      <th>fico</th>\n",
       "      <th>days.with.cr.line</th>\n",
       "      <th>revol.bal</th>\n",
       "      <th>revol.util</th>\n",
       "      <th>inq.last.6mths</th>\n",
       "      <th>delinq.2yrs</th>\n",
       "      <th>pub.rec</th>\n",
       "      <th>not.fully.paid</th>\n",
       "    </tr>\n",
       "  </thead>\n",
       "  <tbody>\n",
       "    <tr>\n",
       "      <th>0</th>\n",
       "      <td>1</td>\n",
       "      <td>debt_consolidation</td>\n",
       "      <td>0.1189</td>\n",
       "      <td>829.10</td>\n",
       "      <td>11.350407</td>\n",
       "      <td>19.48</td>\n",
       "      <td>737</td>\n",
       "      <td>5639.958333</td>\n",
       "      <td>28854</td>\n",
       "      <td>52.1</td>\n",
       "      <td>0</td>\n",
       "      <td>0</td>\n",
       "      <td>0</td>\n",
       "      <td>0</td>\n",
       "    </tr>\n",
       "    <tr>\n",
       "      <th>1</th>\n",
       "      <td>1</td>\n",
       "      <td>credit_card</td>\n",
       "      <td>0.1071</td>\n",
       "      <td>228.22</td>\n",
       "      <td>11.082143</td>\n",
       "      <td>14.29</td>\n",
       "      <td>707</td>\n",
       "      <td>2760.000000</td>\n",
       "      <td>33623</td>\n",
       "      <td>76.7</td>\n",
       "      <td>0</td>\n",
       "      <td>0</td>\n",
       "      <td>0</td>\n",
       "      <td>0</td>\n",
       "    </tr>\n",
       "    <tr>\n",
       "      <th>2</th>\n",
       "      <td>1</td>\n",
       "      <td>debt_consolidation</td>\n",
       "      <td>0.1357</td>\n",
       "      <td>366.86</td>\n",
       "      <td>10.373491</td>\n",
       "      <td>11.63</td>\n",
       "      <td>682</td>\n",
       "      <td>4710.000000</td>\n",
       "      <td>3511</td>\n",
       "      <td>25.6</td>\n",
       "      <td>1</td>\n",
       "      <td>0</td>\n",
       "      <td>0</td>\n",
       "      <td>0</td>\n",
       "    </tr>\n",
       "    <tr>\n",
       "      <th>3</th>\n",
       "      <td>1</td>\n",
       "      <td>debt_consolidation</td>\n",
       "      <td>0.1008</td>\n",
       "      <td>162.34</td>\n",
       "      <td>11.350407</td>\n",
       "      <td>8.10</td>\n",
       "      <td>712</td>\n",
       "      <td>2699.958333</td>\n",
       "      <td>33667</td>\n",
       "      <td>73.2</td>\n",
       "      <td>1</td>\n",
       "      <td>0</td>\n",
       "      <td>0</td>\n",
       "      <td>0</td>\n",
       "    </tr>\n",
       "    <tr>\n",
       "      <th>4</th>\n",
       "      <td>1</td>\n",
       "      <td>credit_card</td>\n",
       "      <td>0.1426</td>\n",
       "      <td>102.92</td>\n",
       "      <td>11.299732</td>\n",
       "      <td>14.97</td>\n",
       "      <td>667</td>\n",
       "      <td>4066.000000</td>\n",
       "      <td>4740</td>\n",
       "      <td>39.5</td>\n",
       "      <td>0</td>\n",
       "      <td>1</td>\n",
       "      <td>0</td>\n",
       "      <td>0</td>\n",
       "    </tr>\n",
       "  </tbody>\n",
       "</table>\n",
       "</div>"
      ],
      "text/plain": [
       "   credit.policy             purpose  int.rate  installment  log.annual.inc  \\\n",
       "0              1  debt_consolidation    0.1189       829.10       11.350407   \n",
       "1              1         credit_card    0.1071       228.22       11.082143   \n",
       "2              1  debt_consolidation    0.1357       366.86       10.373491   \n",
       "3              1  debt_consolidation    0.1008       162.34       11.350407   \n",
       "4              1         credit_card    0.1426       102.92       11.299732   \n",
       "\n",
       "     dti  fico  days.with.cr.line  revol.bal  revol.util  inq.last.6mths  \\\n",
       "0  19.48   737        5639.958333      28854        52.1               0   \n",
       "1  14.29   707        2760.000000      33623        76.7               0   \n",
       "2  11.63   682        4710.000000       3511        25.6               1   \n",
       "3   8.10   712        2699.958333      33667        73.2               1   \n",
       "4  14.97   667        4066.000000       4740        39.5               0   \n",
       "\n",
       "   delinq.2yrs  pub.rec  not.fully.paid  \n",
       "0            0        0               0  \n",
       "1            0        0               0  \n",
       "2            0        0               0  \n",
       "3            0        0               0  \n",
       "4            1        0               0  "
      ]
     },
     "execution_count": 3,
     "metadata": {},
     "output_type": "execute_result"
    }
   ],
   "source": [
    "#load data from the csv file\n",
    "df = pd.read_csv('kaggle/loan_data.csv')\n",
    "df.head()"
   ]
  },
  {
   "cell_type": "code",
   "execution_count": 4,
   "id": "ea243157",
   "metadata": {},
   "outputs": [
    {
     "name": "stdout",
     "output_type": "stream",
     "text": [
      "Number of rows/records: 9578\n",
      "Number of columns/variables: 14\n"
     ]
    }
   ],
   "source": [
    "# Change dots in the columns names to underscores\n",
    "df.columns = [c.replace(\".\", \"_\") for c in df.columns]\n",
    "print(f\"Number of rows/records: {df.shape[0]}\")\n",
    "print(f\"Number of columns/variables: {df.shape[1]}\")"
   ]
  },
  {
   "cell_type": "code",
   "execution_count": 5,
   "id": "7ab5e9bd",
   "metadata": {},
   "outputs": [
    {
     "data": {
      "text/html": [
       "<div>\n",
       "<style scoped>\n",
       "    .dataframe tbody tr th:only-of-type {\n",
       "        vertical-align: middle;\n",
       "    }\n",
       "\n",
       "    .dataframe tbody tr th {\n",
       "        vertical-align: top;\n",
       "    }\n",
       "\n",
       "    .dataframe thead th {\n",
       "        text-align: right;\n",
       "    }\n",
       "</style>\n",
       "<table border=\"1\" class=\"dataframe\">\n",
       "  <thead>\n",
       "    <tr style=\"text-align: right;\">\n",
       "      <th></th>\n",
       "      <th>Number of unique values</th>\n",
       "      <th>Number of nulls</th>\n",
       "      <th>Values</th>\n",
       "    </tr>\n",
       "    <tr>\n",
       "      <th>Variable</th>\n",
       "      <th></th>\n",
       "      <th></th>\n",
       "      <th></th>\n",
       "    </tr>\n",
       "  </thead>\n",
       "  <tbody>\n",
       "    <tr>\n",
       "      <th>credit_policy</th>\n",
       "      <td>2</td>\n",
       "      <td>0</td>\n",
       "      <td>[1, 0]</td>\n",
       "    </tr>\n",
       "    <tr>\n",
       "      <th>purpose</th>\n",
       "      <td>7</td>\n",
       "      <td>0</td>\n",
       "      <td>[debt_consolidation, credit_card, all_other, h...</td>\n",
       "    </tr>\n",
       "    <tr>\n",
       "      <th>int_rate</th>\n",
       "      <td>249</td>\n",
       "      <td>0</td>\n",
       "      <td>[0.1189, 0.1071, 0.1357, 0.1008, 0.1426, 0.078...</td>\n",
       "    </tr>\n",
       "    <tr>\n",
       "      <th>installment</th>\n",
       "      <td>4788</td>\n",
       "      <td>0</td>\n",
       "      <td>[829.1, 228.22, 366.86, 162.34, 102.92, 125.13...</td>\n",
       "    </tr>\n",
       "    <tr>\n",
       "      <th>log_annual_inc</th>\n",
       "      <td>1987</td>\n",
       "      <td>0</td>\n",
       "      <td>[11.35040654, 11.08214255, 10.37349118, 11.299...</td>\n",
       "    </tr>\n",
       "    <tr>\n",
       "      <th>dti</th>\n",
       "      <td>2529</td>\n",
       "      <td>0</td>\n",
       "      <td>[19.48, 14.29, 11.63, 8.1, 14.97, 16.98, 4.0, ...</td>\n",
       "    </tr>\n",
       "    <tr>\n",
       "      <th>fico</th>\n",
       "      <td>44</td>\n",
       "      <td>0</td>\n",
       "      <td>[737, 707, 682, 712, 667, 727, 722, 677, 662, ...</td>\n",
       "    </tr>\n",
       "    <tr>\n",
       "      <th>days_with_cr_line</th>\n",
       "      <td>2687</td>\n",
       "      <td>0</td>\n",
       "      <td>[5639.958333, 2760.0, 4710.0, 2699.958333, 406...</td>\n",
       "    </tr>\n",
       "    <tr>\n",
       "      <th>revol_bal</th>\n",
       "      <td>7869</td>\n",
       "      <td>0</td>\n",
       "      <td>[28854, 33623, 3511, 33667, 4740, 50807, 3839,...</td>\n",
       "    </tr>\n",
       "    <tr>\n",
       "      <th>revol_util</th>\n",
       "      <td>1035</td>\n",
       "      <td>0</td>\n",
       "      <td>[52.1, 76.7, 25.6, 73.2, 39.5, 51.0, 76.8, 68....</td>\n",
       "    </tr>\n",
       "    <tr>\n",
       "      <th>inq_last_6mths</th>\n",
       "      <td>28</td>\n",
       "      <td>0</td>\n",
       "      <td>[0, 1, 2, 3, 4, 5, 6, 8, 7, 33, 9, 18, 14, 15,...</td>\n",
       "    </tr>\n",
       "    <tr>\n",
       "      <th>delinq_2yrs</th>\n",
       "      <td>11</td>\n",
       "      <td>0</td>\n",
       "      <td>[0, 1, 2, 4, 3, 5, 6, 13, 7, 8, 11]</td>\n",
       "    </tr>\n",
       "    <tr>\n",
       "      <th>pub_rec</th>\n",
       "      <td>6</td>\n",
       "      <td>0</td>\n",
       "      <td>[0, 1, 2, 3, 4, 5]</td>\n",
       "    </tr>\n",
       "    <tr>\n",
       "      <th>not_fully_paid</th>\n",
       "      <td>2</td>\n",
       "      <td>0</td>\n",
       "      <td>[0, 1]</td>\n",
       "    </tr>\n",
       "  </tbody>\n",
       "</table>\n",
       "</div>"
      ],
      "text/plain": [
       "                  Number of unique values Number of nulls  \\\n",
       "Variable                                                    \n",
       "credit_policy                           2               0   \n",
       "purpose                                 7               0   \n",
       "int_rate                              249               0   \n",
       "installment                          4788               0   \n",
       "log_annual_inc                       1987               0   \n",
       "dti                                  2529               0   \n",
       "fico                                   44               0   \n",
       "days_with_cr_line                    2687               0   \n",
       "revol_bal                            7869               0   \n",
       "revol_util                           1035               0   \n",
       "inq_last_6mths                         28               0   \n",
       "delinq_2yrs                            11               0   \n",
       "pub_rec                                 6               0   \n",
       "not_fully_paid                          2               0   \n",
       "\n",
       "                                                              Values  \n",
       "Variable                                                              \n",
       "credit_policy                                                 [1, 0]  \n",
       "purpose            [debt_consolidation, credit_card, all_other, h...  \n",
       "int_rate           [0.1189, 0.1071, 0.1357, 0.1008, 0.1426, 0.078...  \n",
       "installment        [829.1, 228.22, 366.86, 162.34, 102.92, 125.13...  \n",
       "log_annual_inc     [11.35040654, 11.08214255, 10.37349118, 11.299...  \n",
       "dti                [19.48, 14.29, 11.63, 8.1, 14.97, 16.98, 4.0, ...  \n",
       "fico               [737, 707, 682, 712, 667, 727, 722, 677, 662, ...  \n",
       "days_with_cr_line  [5639.958333, 2760.0, 4710.0, 2699.958333, 406...  \n",
       "revol_bal          [28854, 33623, 3511, 33667, 4740, 50807, 3839,...  \n",
       "revol_util         [52.1, 76.7, 25.6, 73.2, 39.5, 51.0, 76.8, 68....  \n",
       "inq_last_6mths     [0, 1, 2, 3, 4, 5, 6, 8, 7, 33, 9, 18, 14, 15,...  \n",
       "delinq_2yrs                      [0, 1, 2, 4, 3, 5, 6, 13, 7, 8, 11]  \n",
       "pub_rec                                           [0, 1, 2, 3, 4, 5]  \n",
       "not_fully_paid                                                [0, 1]  "
      ]
     },
     "execution_count": 5,
     "metadata": {},
     "output_type": "execute_result"
    }
   ],
   "source": [
    "# Understand the variables\n",
    "variables = pd.DataFrame(columns=['Variable', 'Number of unique values', 'Number of nulls', 'Values'])\n",
    "\n",
    "for i, var in enumerate(df.columns):\n",
    "    variables.loc[i] = [var, df[var].nunique(), df[var].isnull().sum(), df[var].unique().tolist()]\n",
    "    \n",
    "variables.set_index('Variable')"
   ]
  },
  {
   "cell_type": "code",
   "execution_count": 6,
   "id": "a1cc69a5",
   "metadata": {},
   "outputs": [
    {
     "data": {
      "text/plain": [
       "'\\nFEATURES\\nFrom the introduction above we know what features are available and their types. For convenience we can organize the features of the dataset in useful groups:\\n\\nNUMERIC features containing numeric data\\nBINARY features containing binary data (0,1)\\nCATEGORICAL features with categorical values\\nLOAN features related to the loan itself\\nPERSON features related to the person getting the loan\\nTARGET the target feature for training the model\\n'"
      ]
     },
     "execution_count": 6,
     "metadata": {},
     "output_type": "execute_result"
    }
   ],
   "source": [
    "\"\"\"\n",
    "FEATURES\n",
    "From the introduction above we know what features are available and their types. For convenience we can organize the features of the dataset in useful groups:\n",
    "\n",
    "NUMERIC features containing numeric data\n",
    "BINARY features containing binary data (0,1)\n",
    "CATEGORICAL features with categorical values\n",
    "LOAN features related to the loan itself\n",
    "PERSON features related to the person getting the loan\n",
    "TARGET the target feature for training the model\n",
    "\"\"\""
   ]
  },
  {
   "cell_type": "code",
   "execution_count": 7,
   "id": "bbae66df",
   "metadata": {},
   "outputs": [],
   "source": [
    "NUMERIC = [\"int_rate\", \"installment\", \"log_annual_inc\", \"dti\", \"fico\", \"days_with_cr_line\", \"revol_bal\", \"revol_util\", \n",
    "           \"inq_last_6mths\", \"delinq_2yrs\", \"pub_rec\"]\n",
    "BINARY = ['credit_policy', 'not_fully_paid']\n",
    "CATEGORICAL = ['purpose']\n",
    "LOAN = ['int_rate', 'installment', 'days_with_cr_line', 'revol_bal', 'revol_util']\n",
    "PERSON = ['log_annual_inc', 'dti', 'fico', 'inq_last_6mths', 'delinq_2yrs', 'pub_rec']\n",
    "TARGET = ['not_fully_paid']"
   ]
  },
  {
   "cell_type": "code",
   "execution_count": 8,
   "id": "319a809a",
   "metadata": {},
   "outputs": [],
   "source": [
    "#df[TARGET] = df[TARGET].astype('category')"
   ]
  },
  {
   "cell_type": "code",
   "execution_count": 9,
   "id": "b310482c",
   "metadata": {},
   "outputs": [
    {
     "data": {
      "text/html": [
       "<div>\n",
       "<style scoped>\n",
       "    .dataframe tbody tr th:only-of-type {\n",
       "        vertical-align: middle;\n",
       "    }\n",
       "\n",
       "    .dataframe tbody tr th {\n",
       "        vertical-align: top;\n",
       "    }\n",
       "\n",
       "    .dataframe thead th {\n",
       "        text-align: right;\n",
       "    }\n",
       "</style>\n",
       "<table border=\"1\" class=\"dataframe\">\n",
       "  <thead>\n",
       "    <tr style=\"text-align: right;\">\n",
       "      <th></th>\n",
       "      <th>credit_policy</th>\n",
       "      <th>not_fully_paid</th>\n",
       "    </tr>\n",
       "  </thead>\n",
       "  <tbody>\n",
       "    <tr>\n",
       "      <th>min</th>\n",
       "      <td>0</td>\n",
       "      <td>0</td>\n",
       "    </tr>\n",
       "    <tr>\n",
       "      <th>max</th>\n",
       "      <td>1</td>\n",
       "      <td>1</td>\n",
       "    </tr>\n",
       "  </tbody>\n",
       "</table>\n",
       "</div>"
      ],
      "text/plain": [
       "     credit_policy  not_fully_paid\n",
       "min              0               0\n",
       "max              1               1"
      ]
     },
     "execution_count": 9,
     "metadata": {},
     "output_type": "execute_result"
    }
   ],
   "source": [
    "# MISSING VALUES & IMPUTATION\n",
    "# OUTLIERS\n",
    "\n",
    "df[BINARY].agg(['min', 'max'])"
   ]
  },
  {
   "cell_type": "code",
   "execution_count": 10,
   "id": "e412e6c7",
   "metadata": {},
   "outputs": [
    {
     "data": {
      "text/html": [
       "<div>\n",
       "<style scoped>\n",
       "    .dataframe tbody tr th:only-of-type {\n",
       "        vertical-align: middle;\n",
       "    }\n",
       "\n",
       "    .dataframe tbody tr th {\n",
       "        vertical-align: top;\n",
       "    }\n",
       "\n",
       "    .dataframe thead th {\n",
       "        text-align: right;\n",
       "    }\n",
       "</style>\n",
       "<table border=\"1\" class=\"dataframe\">\n",
       "  <thead>\n",
       "    <tr style=\"text-align: right;\">\n",
       "      <th></th>\n",
       "      <th>int_rate</th>\n",
       "      <th>installment</th>\n",
       "      <th>log_annual_inc</th>\n",
       "      <th>dti</th>\n",
       "      <th>fico</th>\n",
       "      <th>days_with_cr_line</th>\n",
       "      <th>revol_bal</th>\n",
       "      <th>revol_util</th>\n",
       "      <th>inq_last_6mths</th>\n",
       "      <th>delinq_2yrs</th>\n",
       "      <th>pub_rec</th>\n",
       "    </tr>\n",
       "  </thead>\n",
       "  <tbody>\n",
       "    <tr>\n",
       "      <th>min</th>\n",
       "      <td>0.06</td>\n",
       "      <td>15.67</td>\n",
       "      <td>7.55</td>\n",
       "      <td>0.00</td>\n",
       "      <td>612</td>\n",
       "      <td>178.96</td>\n",
       "      <td>0</td>\n",
       "      <td>0.0</td>\n",
       "      <td>0</td>\n",
       "      <td>0</td>\n",
       "      <td>0</td>\n",
       "    </tr>\n",
       "    <tr>\n",
       "      <th>max</th>\n",
       "      <td>0.22</td>\n",
       "      <td>940.14</td>\n",
       "      <td>14.53</td>\n",
       "      <td>29.96</td>\n",
       "      <td>827</td>\n",
       "      <td>17639.96</td>\n",
       "      <td>1207359</td>\n",
       "      <td>119.0</td>\n",
       "      <td>33</td>\n",
       "      <td>13</td>\n",
       "      <td>5</td>\n",
       "    </tr>\n",
       "  </tbody>\n",
       "</table>\n",
       "</div>"
      ],
      "text/plain": [
       "     int_rate  installment  log_annual_inc    dti  fico  days_with_cr_line  \\\n",
       "min      0.06        15.67            7.55   0.00   612             178.96   \n",
       "max      0.22       940.14           14.53  29.96   827           17639.96   \n",
       "\n",
       "     revol_bal  revol_util  inq_last_6mths  delinq_2yrs  pub_rec  \n",
       "min          0         0.0               0            0        0  \n",
       "max    1207359       119.0              33           13        5  "
      ]
     },
     "execution_count": 10,
     "metadata": {},
     "output_type": "execute_result"
    }
   ],
   "source": [
    "df[NUMERIC].agg(['min', 'max']).round(2)"
   ]
  },
  {
   "cell_type": "code",
   "execution_count": 11,
   "id": "398a2243",
   "metadata": {},
   "outputs": [
    {
     "data": {
      "text/plain": [
       "\"\\nThe ranges of each feature seem to be within the expected ranges, except for revol_bal: this range is from 0 to 1.2 milions! \\nLet's examine this feature in more detail by visually showing its distribution with a boxplot:\\n\""
      ]
     },
     "execution_count": 11,
     "metadata": {},
     "output_type": "execute_result"
    }
   ],
   "source": [
    "\"\"\"\n",
    "The ranges of each feature seem to be within the expected ranges, except for revol_bal: this range is from 0 to 1.2 milions! \n",
    "Let's examine this feature in more detail by visually showing its distribution with a boxplot:\n",
    "\"\"\""
   ]
  },
  {
   "cell_type": "code",
   "execution_count": 12,
   "id": "7ba64cea",
   "metadata": {},
   "outputs": [
    {
     "data": {
      "text/plain": [
       "Text(0.5, 1.0, 'Distribution of revolving balance')"
      ]
     },
     "execution_count": 12,
     "metadata": {},
     "output_type": "execute_result"
    },
    {
     "data": {
      "image/png": "[encoded data removed]",
      "text/plain": [
       "<Figure size 720x144 with 1 Axes>"
      ]
     },
     "metadata": {
      "needs_background": "light"
     },
     "output_type": "display_data"
    }
   ],
   "source": [
    "plt.figure(figsize=(10,2))\n",
    "sns.boxplot(data=df, x='revol_bal')\n",
    "plt.xticks(ticks = [0,50000,200000,400000,600000,800000,1000000,1200000], labels=['0','50K','200K','400K','600K','800K','1000K','1200K'])\n",
    "plt.title(\"Distribution of revolving balance\")"
   ]
  },
  {
   "cell_type": "code",
   "execution_count": 13,
   "id": "db67f4de",
   "metadata": {},
   "outputs": [
    {
     "data": {
      "text/plain": [
       "'\\nOK, the boxplot shows that the majority of the values are certainly below 50,000 with several outliers from 50,000 to 500,000; \\nthere are also 4 extreme points above 500,000! There four points might be due to error or they might be real extreme cases. \\nWhatever the case, they would introduce bias to further analysis and model-training. \\nSince there are more than 9500 entries in total, we can drop these extreme four without loosing much information and \\nexplanatory power.\\n'"
      ]
     },
     "execution_count": 13,
     "metadata": {},
     "output_type": "execute_result"
    }
   ],
   "source": [
    "\"\"\"\n",
    "OK, the boxplot shows that the majority of the values are certainly below 50,000 with several outliers from 50,000 to 500,000; \n",
    "there are also 4 extreme points above 500,000! There four points might be due to error or they might be real extreme cases. \n",
    "Whatever the case, they would introduce bias to further analysis and model-training. \n",
    "Since there are more than 9500 entries in total, we can drop these extreme four without loosing much information and \n",
    "explanatory power.\n",
    "\"\"\""
   ]
  },
  {
   "cell_type": "code",
   "execution_count": 14,
   "id": "6e906c4a",
   "metadata": {},
   "outputs": [
    {
     "data": {
      "text/plain": [
       "Text(0.5, 1.0, 'Distribution of revolving balance - without outliers')"
      ]
     },
     "execution_count": 14,
     "metadata": {},
     "output_type": "execute_result"
    },
    {
     "data": {
      "image/png": "[encoded data removed]",
      "text/plain": [
       "<Figure size 720x144 with 1 Axes>"
      ]
     },
     "metadata": {
      "needs_background": "light"
     },
     "output_type": "display_data"
    }
   ],
   "source": [
    "# get indices of the extreme outliers and drop them\n",
    "indices = df[df['revol_bal'] > 500000].index\n",
    "df_clean = df.drop(indices)\n",
    "\n",
    "# check the boxplot again:\n",
    "plt.figure(figsize=(10,2))\n",
    "sns.boxplot(data = df_clean, x='revol_bal')\n",
    "plt.title('Distribution of revolving balance - without outliers')"
   ]
  },
  {
   "cell_type": "code",
   "execution_count": 15,
   "id": "ef58d198",
   "metadata": {},
   "outputs": [
    {
     "data": {
      "text/plain": [
       "'\\nThings look better now, there are still some outliers but they are not extreme and they should be useful in training our model.\\n'"
      ]
     },
     "execution_count": 15,
     "metadata": {},
     "output_type": "execute_result"
    }
   ],
   "source": [
    "\"\"\"\n",
    "Things look better now, there are still some outliers but they are not extreme and they should be useful in training our model.\n",
    "\"\"\""
   ]
  },
  {
   "cell_type": "code",
   "execution_count": 16,
   "id": "e9156d18",
   "metadata": {},
   "outputs": [
    {
     "data": {
      "text/plain": [
       "Text(0.5, 1.0, 'Count of loans by purpose')"
      ]
     },
     "execution_count": 16,
     "metadata": {},
     "output_type": "execute_result"
    },
    {
     "data": {
      "image/png": "[encoded data removed]",
      "text/plain": [
       "<Figure size 432x288 with 1 Axes>"
      ]
     },
     "metadata": {
      "needs_background": "light"
     },
     "output_type": "display_data"
    }
   ],
   "source": [
    "# THE NATURE OF LOAN\n",
    "# to gain insights, we can visualize what kind of loans people get\n",
    "\n",
    "sns.countplot(y=df_clean.purpose)\n",
    "plt.xticks(None)\n",
    "plt.yticks(None)\n",
    "plt.title(\"Count of loans by purpose\")"
   ]
  },
  {
   "cell_type": "code",
   "execution_count": 17,
   "id": "4682ee21",
   "metadata": {},
   "outputs": [
    {
     "data": {
      "text/plain": [
       "(0.0, 1.0)"
      ]
     },
     "execution_count": 17,
     "metadata": {},
     "output_type": "execute_result"
    },
    {
     "data": {
      "image/png": "[encoded data removed]",
      "text/plain": [
       "<Figure size 432x288 with 1 Axes>"
      ]
     },
     "metadata": {
      "needs_background": "light"
     },
     "output_type": "display_data"
    }
   ],
   "source": [
    "# Analyse how many of these loans are not fully paid back\n",
    "ax = sns.barplot(y=df_clean.purpose, x=df_clean.not_fully_paid.astype('int'), ci=None)\n",
    "ax.xaxis.set_major_formatter(mtick.PercentFormatter(1, decimals=0))\n",
    "plt.xticks(None)\n",
    "plt.yticks(None)\n",
    "plt.title(\"Ratio of not fully paid loans by purpose\")\n",
    "plt.xlim(0,1)"
   ]
  },
  {
   "cell_type": "code",
   "execution_count": 18,
   "id": "60256cf0",
   "metadata": {},
   "outputs": [
    {
     "data": {
      "image/png": "[encoded data removed]",
      "text/plain": [
       "<Figure size 360x144 with 1 Axes>"
      ]
     },
     "metadata": {
      "needs_background": "light"
     },
     "output_type": "display_data"
    }
   ],
   "source": [
    "# Lets analyse about credit_policy\n",
    "# display the ratio of not_fully_paid by credit_policy\n",
    "ratio = df_clean.groupby('credit_policy')['not_fully_paid'].mean()\n",
    "ax = ratio.plot.barh(figsize=(5,2), title='Ratio of not fully paid loans by credit policy')\n",
    "ax.xaxis.set_major_formatter(mtick.PercentFormatter(1, decimals=0))\n",
    "plt.xlim(0,1);"
   ]
  },
  {
   "cell_type": "code",
   "execution_count": 19,
   "id": "b73c4d58",
   "metadata": {},
   "outputs": [],
   "source": [
    "#Let's examine some of the other features in relation to whether a loan was fully paid back or not.\n",
    "# function to plot visuals about the distribution of a feature by various categories of interest\n",
    "\n",
    "def show_distribution(feature='int_rate', name='Interest Rate'):\n",
    "    #define the subplot areas\n",
    "    \n",
    "    fig, axes = plt.subplots(1,3, figsize=(15,3))\n",
    "    \n",
    "    #plot the boxplots by purpose\n",
    "    sns.boxplot(data=df_clean, x=feature, y='purpose', ax=axes[0], )\n",
    "    axes[0].set_ylabel(\"\")\n",
    "    axes[0].set_xlabel(name)\n",
    "    axes[0].set_title(name+\" by loan purpose\")\n",
    "    #plot the boxplots by not_fully_paid\n",
    "    y= df_clean.not_fully_paid.astype('category')\n",
    "    sns.boxplot(data=df_clean, x=feature, y=y, ax=axes[1])\n",
    "    axes[1].set_ylabel(\"not fully paid\")\n",
    "    axes[1].set_xlabel(name)\n",
    "    axes[1].set_title(name+\" by paid status\")\n",
    "    #plot the feature distribution \n",
    "    sns.histplot(x=df_clean[feature], cumulative=False, ax=axes[2])\n",
    "    axes[2].set_ylabel(\"not fully paid\")\n",
    "    axes[2].set_xlabel(name)\n",
    "    axes[2].set_title(\"Distribution of \"+name)"
   ]
  },
  {
   "cell_type": "code",
   "execution_count": 20,
   "id": "6edc4f60",
   "metadata": {},
   "outputs": [
    {
     "data": {
      "image/png": "[encoded data removed]",
      "text/plain": [
       "<Figure size 1080x216 with 3 Axes>"
      ]
     },
     "metadata": {
      "needs_background": "light"
     },
     "output_type": "display_data"
    }
   ],
   "source": [
    "show_distribution('int_rate','Interest Rate')"
   ]
  },
  {
   "cell_type": "code",
   "execution_count": 21,
   "id": "2fc6cd57",
   "metadata": {},
   "outputs": [
    {
     "data": {
      "text/plain": [
       "'\\nThe first graph shows that the purpose of a loan does not affect its interest rate much, \\nsince we see the boxes at the same place for each purpose.\\nLoans for small businesses tend to have higher interest rates than the rest -> their average is higher than the 75th prcentile \\n(the right edge of the box) of other purposes.\\n\\nThe second graph shows that the loans that were not fully paid back have slightly higher interest rates, \\nbut not by a significant amount.\\n\\nIn the third graph we see that the interest rates tend to follow a normal distribution with a lot of extra loans having \\nrates lower than the average, skewing the distribution to the left a bit.\\n'"
      ]
     },
     "execution_count": 21,
     "metadata": {},
     "output_type": "execute_result"
    }
   ],
   "source": [
    "\"\"\"\n",
    "The first graph shows that the purpose of a loan does not affect its interest rate much, \n",
    "since we see the boxes at the same place for each purpose.\n",
    "Loans for small businesses tend to have higher interest rates than the rest -> their average is higher than the 75th prcentile \n",
    "(the right edge of the box) of other purposes.\n",
    "\n",
    "The second graph shows that the loans that were not fully paid back have slightly higher interest rates, \n",
    "but not by a significant amount.\n",
    "\n",
    "In the third graph we see that the interest rates tend to follow a normal distribution with a lot of extra loans having \n",
    "rates lower than the average, skewing the distribution to the left a bit.\n",
    "\"\"\""
   ]
  },
  {
   "cell_type": "code",
   "execution_count": 22,
   "id": "a571bc78",
   "metadata": {},
   "outputs": [
    {
     "data": {
      "image/png": "[encoded data removed]",
      "text/plain": [
       "<Figure size 1080x216 with 3 Axes>"
      ]
     },
     "metadata": {
      "needs_background": "light"
     },
     "output_type": "display_data"
    }
   ],
   "source": [
    "show_distribution('installment', \"Monthly installment amount\")"
   ]
  },
  {
   "cell_type": "code",
   "execution_count": 23,
   "id": "4a1d7c5a",
   "metadata": {},
   "outputs": [
    {
     "data": {
      "text/plain": [
       "'\\nFIRST GRAPH\\nWe can see that the installment amount changes related to the pupose of the loan, with loans for small businesses, \\ndebt consolidation & home improvement having the highest range of installements.\\n'"
      ]
     },
     "execution_count": 23,
     "metadata": {},
     "output_type": "execute_result"
    }
   ],
   "source": [
    "\"\"\"\n",
    "FIRST GRAPH\n",
    "We can see that the installment amount changes related to the pupose of the loan, with loans for small businesses, \n",
    "debt consolidation & home improvement having the highest range of installements.\n",
    "\"\"\""
   ]
  },
  {
   "cell_type": "code",
   "execution_count": 24,
   "id": "80f19dbc",
   "metadata": {},
   "outputs": [
    {
     "data": {
      "text/html": [
       "<div>\n",
       "<style scoped>\n",
       "    .dataframe tbody tr th:only-of-type {\n",
       "        vertical-align: middle;\n",
       "    }\n",
       "\n",
       "    .dataframe tbody tr th {\n",
       "        vertical-align: top;\n",
       "    }\n",
       "\n",
       "    .dataframe thead th {\n",
       "        text-align: right;\n",
       "    }\n",
       "</style>\n",
       "<table border=\"1\" class=\"dataframe\">\n",
       "  <thead>\n",
       "    <tr style=\"text-align: right;\">\n",
       "      <th></th>\n",
       "      <th>count</th>\n",
       "      <th>mean</th>\n",
       "      <th>std</th>\n",
       "      <th>min</th>\n",
       "      <th>25%</th>\n",
       "      <th>50%</th>\n",
       "      <th>75%</th>\n",
       "      <th>max</th>\n",
       "    </tr>\n",
       "  </thead>\n",
       "  <tbody>\n",
       "    <tr>\n",
       "      <th>Others</th>\n",
       "      <td>8957.0</td>\n",
       "      <td>311.0</td>\n",
       "      <td>202.0</td>\n",
       "      <td>16.0</td>\n",
       "      <td>162.0</td>\n",
       "      <td>263.0</td>\n",
       "      <td>414.0</td>\n",
       "      <td>940.0</td>\n",
       "    </tr>\n",
       "    <tr>\n",
       "      <th>Small Business</th>\n",
       "      <td>617.0</td>\n",
       "      <td>433.0</td>\n",
       "      <td>248.0</td>\n",
       "      <td>16.0</td>\n",
       "      <td>225.0</td>\n",
       "      <td>393.0</td>\n",
       "      <td>624.0</td>\n",
       "      <td>927.0</td>\n",
       "    </tr>\n",
       "  </tbody>\n",
       "</table>\n",
       "</div>"
      ],
      "text/plain": [
       "                 count   mean    std   min    25%    50%    75%    max\n",
       "Others          8957.0  311.0  202.0  16.0  162.0  263.0  414.0  940.0\n",
       "Small Business   617.0  433.0  248.0  16.0  225.0  393.0  624.0  927.0"
      ]
     },
     "execution_count": 24,
     "metadata": {},
     "output_type": "execute_result"
    }
   ],
   "source": [
    "# seperate loans for small business from others and show summary statistics:\n",
    "df_clean.groupby(by=lambda x: df_clean.loc[x].purpose == 'small_business', sort=False)['installment'].describe().round().rename({0:\"Others\",1:\"Small Business\"})"
   ]
  },
  {
   "cell_type": "code",
   "execution_count": 25,
   "id": "050e905e",
   "metadata": {},
   "outputs": [
    {
     "data": {
      "text/plain": [
       "'\\nNow it is more obvious: although the min & max of them are practically the same between the two groups, \\nthe mean amount of monthly installment amounts is \\n$120 higher for small business loans.\\n'"
      ]
     },
     "execution_count": 25,
     "metadata": {},
     "output_type": "execute_result"
    }
   ],
   "source": [
    "\"\"\"\n",
    "Now it is more obvious: although the min & max of them are practically the same between the two groups, \n",
    "the mean amount of monthly installment amounts is \n",
    "$120 higher for small business loans.\n",
    "\"\"\""
   ]
  },
  {
   "cell_type": "code",
   "execution_count": 26,
   "id": "bf6ed2c8",
   "metadata": {},
   "outputs": [
    {
     "data": {
      "image/png": "[encoded data removed]",
      "text/plain": [
       "<Figure size 1080x216 with 3 Axes>"
      ]
     },
     "metadata": {
      "needs_background": "light"
     },
     "output_type": "display_data"
    }
   ],
   "source": [
    "show_distribution('log_annual_inc', 'Annual Income (log)')"
   ]
  },
  {
   "cell_type": "code",
   "execution_count": 27,
   "id": "da9ef9fc",
   "metadata": {},
   "outputs": [
    {
     "data": {
      "text/plain": [
       "'\\nThere is nothing to observe here, the feature is normally distributed as expected.\\n'"
      ]
     },
     "execution_count": 27,
     "metadata": {},
     "output_type": "execute_result"
    }
   ],
   "source": [
    "\"\"\"\n",
    "There is nothing to observe here, the feature is normally distributed as expected.\n",
    "\"\"\""
   ]
  },
  {
   "cell_type": "code",
   "execution_count": 28,
   "id": "d6eebb3a",
   "metadata": {},
   "outputs": [
    {
     "data": {
      "image/png": "[encoded data removed]",
      "text/plain": [
       "<Figure size 1080x216 with 3 Axes>"
      ]
     },
     "metadata": {
      "needs_background": "light"
     },
     "output_type": "display_data"
    }
   ],
   "source": [
    "show_distribution('dti', 'Debt-to-Income Ratio')"
   ]
  },
  {
   "cell_type": "code",
   "execution_count": 29,
   "id": "76dc5a1e",
   "metadata": {},
   "outputs": [
    {
     "data": {
      "text/plain": [
       "'\\nThe dti does not seem to greatly affect whether a loan is fully paid back or not\\n'"
      ]
     },
     "execution_count": 29,
     "metadata": {},
     "output_type": "execute_result"
    }
   ],
   "source": [
    "\"\"\"\n",
    "The dti does not seem to greatly affect whether a loan is fully paid back or not\n",
    "\"\"\""
   ]
  },
  {
   "cell_type": "code",
   "execution_count": 30,
   "id": "4a3e5e02",
   "metadata": {},
   "outputs": [
    {
     "data": {
      "image/png": "[encoded data removed]",
      "text/plain": [
       "<Figure size 1080x216 with 3 Axes>"
      ]
     },
     "metadata": {
      "needs_background": "light"
     },
     "output_type": "display_data"
    }
   ],
   "source": [
    "show_distribution('fico', \"FICO score\")"
   ]
  },
  {
   "cell_type": "code",
   "execution_count": 31,
   "id": "24c892b6",
   "metadata": {},
   "outputs": [
    {
     "data": {
      "text/plain": [
       "'\\nit seems like people paying back their loans have higher FICO scores\\n'"
      ]
     },
     "execution_count": 31,
     "metadata": {},
     "output_type": "execute_result"
    }
   ],
   "source": [
    "\"\"\"\n",
    "it seems like people paying back their loans have higher FICO scores\n",
    "\"\"\""
   ]
  },
  {
   "cell_type": "code",
   "execution_count": 32,
   "id": "3b9f10be",
   "metadata": {},
   "outputs": [
    {
     "data": {
      "text/plain": [
       "'\\npeople that do not meet credit criteria are more prone to not pay back a loan\\nthe purpose of a loan is related to paid-back status\\nloans for small businesses tend to have higher interest rates\\nloans for small businesses and debt consolidation have the highest installements\\nsmall business loans have $120 higher installments than other loans, on average\\nlog of income does not relate to fully-paid status\\ndti does not greatly relate to fully-paid status\\nhigher FICO scores indicate fully-paid back loans\\n'"
      ]
     },
     "execution_count": 32,
     "metadata": {},
     "output_type": "execute_result"
    }
   ],
   "source": [
    "#Conclusions of exploratory analysis\n",
    "\"\"\"\n",
    "people that do not meet credit criteria are more prone to not pay back a loan\n",
    "the purpose of a loan is related to paid-back status\n",
    "loans for small businesses tend to have higher interest rates\n",
    "loans for small businesses and debt consolidation have the highest installements\n",
    "small business loans have $120 higher installments than other loans, on average\n",
    "log of income does not relate to fully-paid status\n",
    "dti does not greatly relate to fully-paid status\n",
    "higher FICO scores indicate fully-paid back loans\n",
    "\"\"\""
   ]
  },
  {
   "cell_type": "markdown",
   "id": "5b9dfe57",
   "metadata": {},
   "source": [
    "# QUESTION 1: - Find out what kind of people take a loan for what purposes."
   ]
  },
  {
   "cell_type": "code",
   "execution_count": 33,
   "id": "a414f540",
   "metadata": {},
   "outputs": [],
   "source": [
    "#preparing the dataset for KMeans Clustering\n",
    "df_clustering = df_clean[['log_annual_inc', 'dti', 'fico']]\n",
    "\n",
    "#scale the dataset values for clustering\n",
    "df_clustering = StandardScaler().fit_transform(df_clustering)"
   ]
  },
  {
   "cell_type": "code",
   "execution_count": 34,
   "id": "782ff103",
   "metadata": {},
   "outputs": [],
   "source": [
    "inertias = []\n",
    "for k in range(1,11):\n",
    "    km=KMeans(k)\n",
    "    km.fit(df_clustering)\n",
    "    inertias.append(km.inertia_)"
   ]
  },
  {
   "cell_type": "code",
   "execution_count": 35,
   "id": "24c3ddf1",
   "metadata": {},
   "outputs": [
    {
     "data": {
      "text/plain": [
       "Text(0, 0.5, 'inertias')"
      ]
     },
     "execution_count": 35,
     "metadata": {},
     "output_type": "execute_result"
    },
    {
     "data": {
      "image/png": "[encoded data removed]",
      "text/plain": [
       "<Figure size 432x288 with 1 Axes>"
      ]
     },
     "metadata": {
      "needs_background": "light"
     },
     "output_type": "display_data"
    }
   ],
   "source": [
    "#plot the inertias to use the elbow method\n",
    "plt.plot(range(1,11), inertias, marker='o')\n",
    "plt.xlabel('number of clusters')\n",
    "plt.ylabel('inertias')"
   ]
  },
  {
   "cell_type": "code",
   "execution_count": 36,
   "id": "e4050d61",
   "metadata": {},
   "outputs": [
    {
     "data": {
      "text/plain": [
       "\"\\nLets divide the cluster in 3 for simplicity's sake\\n\""
      ]
     },
     "execution_count": 36,
     "metadata": {},
     "output_type": "execute_result"
    }
   ],
   "source": [
    "\"\"\"\n",
    "Lets divide the cluster in 3 for simplicity's sake\n",
    "\"\"\""
   ]
  },
  {
   "cell_type": "code",
   "execution_count": 37,
   "id": "bcc1f841",
   "metadata": {},
   "outputs": [
    {
     "data": {
      "text/html": [
       "<div>\n",
       "<style scoped>\n",
       "    .dataframe tbody tr th:only-of-type {\n",
       "        vertical-align: middle;\n",
       "    }\n",
       "\n",
       "    .dataframe tbody tr th {\n",
       "        vertical-align: top;\n",
       "    }\n",
       "\n",
       "    .dataframe thead th {\n",
       "        text-align: right;\n",
       "    }\n",
       "</style>\n",
       "<table border=\"1\" class=\"dataframe\">\n",
       "  <thead>\n",
       "    <tr style=\"text-align: right;\">\n",
       "      <th></th>\n",
       "      <th>log_annual_inc</th>\n",
       "      <th>dti</th>\n",
       "      <th>fico</th>\n",
       "      <th>inq_last_6mths</th>\n",
       "      <th>delinq_2yrs</th>\n",
       "      <th>pub_rec</th>\n",
       "    </tr>\n",
       "    <tr>\n",
       "      <th>cluster</th>\n",
       "      <th></th>\n",
       "      <th></th>\n",
       "      <th></th>\n",
       "      <th></th>\n",
       "      <th></th>\n",
       "      <th></th>\n",
       "    </tr>\n",
       "  </thead>\n",
       "  <tbody>\n",
       "    <tr>\n",
       "      <th>0</th>\n",
       "      <td>11.256652</td>\n",
       "      <td>8.199747</td>\n",
       "      <td>751.667605</td>\n",
       "      <td>1.311994</td>\n",
       "      <td>0.068238</td>\n",
       "      <td>0.022863</td>\n",
       "    </tr>\n",
       "    <tr>\n",
       "      <th>1</th>\n",
       "      <td>10.967790</td>\n",
       "      <td>18.769314</td>\n",
       "      <td>696.078883</td>\n",
       "      <td>1.686428</td>\n",
       "      <td>0.179569</td>\n",
       "      <td>0.072513</td>\n",
       "    </tr>\n",
       "    <tr>\n",
       "      <th>2</th>\n",
       "      <td>10.526138</td>\n",
       "      <td>7.836938</td>\n",
       "      <td>689.816157</td>\n",
       "      <td>1.690449</td>\n",
       "      <td>0.241978</td>\n",
       "      <td>0.087958</td>\n",
       "    </tr>\n",
       "  </tbody>\n",
       "</table>\n",
       "</div>"
      ],
      "text/plain": [
       "         log_annual_inc        dti        fico  inq_last_6mths  delinq_2yrs  \\\n",
       "cluster                                                                       \n",
       "0             11.256652   8.199747  751.667605        1.311994     0.068238   \n",
       "1             10.967790  18.769314  696.078883        1.686428     0.179569   \n",
       "2             10.526138   7.836938  689.816157        1.690449     0.241978   \n",
       "\n",
       "          pub_rec  \n",
       "cluster            \n",
       "0        0.022863  \n",
       "1        0.072513  \n",
       "2        0.087958  "
      ]
     },
     "execution_count": 37,
     "metadata": {},
     "output_type": "execute_result"
    }
   ],
   "source": [
    "#fit the chosen KMeans model for 3 clusters\n",
    "km = KMeans(3, random_state=42)\n",
    "km.fit(df_clustering)\n",
    "\n",
    "#add the cluster labels to the dataframe\n",
    "df_clean['cluster'] = km.labels_\n",
    "\n",
    "df_clean.groupby('cluster')[PERSON].mean()"
   ]
  },
  {
   "cell_type": "code",
   "execution_count": 38,
   "id": "d3674438",
   "metadata": {},
   "outputs": [
    {
     "data": {
      "text/plain": [
       "\"\\nThe three last features have little differences between clusters; these qualities are defined after taking the loan, \\nanyway, so will not be taken into account:\\n\\nCLUSTER 0 - 'TRUSTHWORTHY' - Highest income in the set, also the highest fico and normal dti\\nCLUSTER 1 - 'DEBTORS' - Highest dti and average annual income and fico score\\nCLUSTER 2 - 'HIGH RISK' - Lowest income in the set, lowest dti and fico\\n\""
      ]
     },
     "execution_count": 38,
     "metadata": {},
     "output_type": "execute_result"
    }
   ],
   "source": [
    "\"\"\"\n",
    "The three last features have little differences between clusters; these qualities are defined after taking the loan, \n",
    "anyway, so will not be taken into account:\n",
    "\n",
    "CLUSTER 0 - 'TRUSTHWORTHY' - Highest income in the set, also the highest fico and normal dti\n",
    "CLUSTER 1 - 'DEBTORS' - Highest dti and average annual income and fico score\n",
    "CLUSTER 2 - 'HIGH RISK' - Lowest income in the set, lowest dti and fico\n",
    "\"\"\""
   ]
  },
  {
   "cell_type": "code",
   "execution_count": 39,
   "id": "ef8e3900",
   "metadata": {},
   "outputs": [
    {
     "data": {
      "text/plain": [
       "Text(0.5, 1.0, 'Number of loan by clusters and purpose')"
      ]
     },
     "execution_count": 39,
     "metadata": {},
     "output_type": "execute_result"
    },
    {
     "data": {
      "image/png": "[encoded data removed]",
      "text/plain": [
       "<Figure size 648x360 with 1 Axes>"
      ]
     },
     "metadata": {
      "needs_background": "light"
     },
     "output_type": "display_data"
    }
   ],
   "source": [
    "#plot the loan puposes for each cluster\n",
    "\n",
    "pd.crosstab(df_clean.cluster, df_clean.purpose).rename({0: 'Trustworthy', 1: 'Debtors', 2: 'High Risk'}).plot.bar(figsize=(9,5),\n",
    "                                                                                                                  rot=0, sort_columns=False,)\n",
    "plt.grid(axis='y')\n",
    "plt.xlabel(\"\")\n",
    "plt.title('Number of loan by clusters and purpose')"
   ]
  },
  {
   "cell_type": "code",
   "execution_count": 40,
   "id": "e76d1551",
   "metadata": {},
   "outputs": [
    {
     "data": {
      "text/plain": [
       "'\\nDEBTORS - take loans mostly to consolidate and fund theis credit card;\\nTRUSTWORTHY - expand their business or enjoy their good status with home \\nimprovements and major purchase, almost twice as much as the other clusters;\\nHIGH RISK - taking loans for a mix purpose, but much more about educational \\npurposes.\\n'"
      ]
     },
     "execution_count": 40,
     "metadata": {},
     "output_type": "execute_result"
    }
   ],
   "source": [
    "#ANSWER 1\n",
    "\"\"\"\n",
    "DEBTORS - take loans mostly to consolidate and fund theis credit card;\n",
    "TRUSTWORTHY - expand their business or enjoy their good status with home \n",
    "improvements and major purchase, almost twice as much as the other clusters;\n",
    "HIGH RISK - taking loans for a mix purpose, but much more about educational \n",
    "purposes.\n",
    "\"\"\""
   ]
  },
  {
   "cell_type": "code",
   "execution_count": 41,
   "id": "b3845be0",
   "metadata": {},
   "outputs": [
    {
     "data": {
      "text/plain": [
       "cluster\n",
       "0    0.105\n",
       "1    0.177\n",
       "2    0.193\n",
       "Name: not_fully_paid, dtype: float64"
      ]
     },
     "execution_count": 41,
     "metadata": {},
     "output_type": "execute_result"
    }
   ],
   "source": [
    "df_clean.groupby('cluster')['not_fully_paid'].mean().round(3)"
   ]
  },
  {
   "cell_type": "code",
   "execution_count": 42,
   "id": "284c2dd3",
   "metadata": {},
   "outputs": [
    {
     "data": {
      "text/plain": [
       "'\\nAs expected, the \"Trustworthy\" cluster (0) had only 10.5% of their loans \\nnot fully paid back, whereas for the \"High risk\" cluster the ratio is \\nalmost double, 19.3%\\n'"
      ]
     },
     "execution_count": 42,
     "metadata": {},
     "output_type": "execute_result"
    }
   ],
   "source": [
    "\"\"\"\n",
    "As expected, the \"Trustworthy\" cluster (0) had only 10.5% of their loans \n",
    "not fully paid back, whereas for the \"High risk\" cluster the ratio is \n",
    "almost double, 19.3%\n",
    "\"\"\""
   ]
  },
  {
   "cell_type": "markdown",
   "id": "f45f7fe3",
   "metadata": {},
   "source": [
    "# QUESTION 2: How long does it take to payback a loan?"
   ]
  },
  {
   "cell_type": "code",
   "execution_count": 43,
   "id": "de4f2738",
   "metadata": {},
   "outputs": [
    {
     "data": {
      "text/plain": [
       "'\\nThe best one seems to be days_with_cr_line assuming that the person \\nhas credit line for as long as the loan exists. We will only \\nconsider the loans that are fully paid back \\n'"
      ]
     },
     "execution_count": 43,
     "metadata": {},
     "output_type": "execute_result"
    }
   ],
   "source": [
    "\"\"\"\n",
    "The best one seems to be days_with_cr_line assuming that the person \n",
    "has credit line for as long as the loan exists. We will only \n",
    "consider the loans that are fully paid back \n",
    "\"\"\""
   ]
  },
  {
   "cell_type": "code",
   "execution_count": 44,
   "id": "857ef49e",
   "metadata": {},
   "outputs": [
    {
     "data": {
      "text/html": [
       "<div>\n",
       "<style scoped>\n",
       "    .dataframe tbody tr th:only-of-type {\n",
       "        vertical-align: middle;\n",
       "    }\n",
       "\n",
       "    .dataframe tbody tr th {\n",
       "        vertical-align: top;\n",
       "    }\n",
       "\n",
       "    .dataframe thead th {\n",
       "        text-align: right;\n",
       "    }\n",
       "</style>\n",
       "<table border=\"1\" class=\"dataframe\">\n",
       "  <thead>\n",
       "    <tr style=\"text-align: right;\">\n",
       "      <th></th>\n",
       "      <th>credit_policy</th>\n",
       "      <th>purpose</th>\n",
       "      <th>int_rate</th>\n",
       "      <th>installment</th>\n",
       "      <th>log_annual_inc</th>\n",
       "      <th>dti</th>\n",
       "      <th>fico</th>\n",
       "      <th>days_with_cr_line</th>\n",
       "      <th>revol_bal</th>\n",
       "      <th>revol_util</th>\n",
       "      <th>inq_last_6mths</th>\n",
       "      <th>delinq_2yrs</th>\n",
       "      <th>pub_rec</th>\n",
       "      <th>not_fully_paid</th>\n",
       "      <th>cluster</th>\n",
       "    </tr>\n",
       "  </thead>\n",
       "  <tbody>\n",
       "    <tr>\n",
       "      <th>0</th>\n",
       "      <td>1</td>\n",
       "      <td>debt_consolidation</td>\n",
       "      <td>0.1189</td>\n",
       "      <td>829.10</td>\n",
       "      <td>11.350407</td>\n",
       "      <td>19.48</td>\n",
       "      <td>737</td>\n",
       "      <td>5639.958333</td>\n",
       "      <td>28854</td>\n",
       "      <td>52.1</td>\n",
       "      <td>0</td>\n",
       "      <td>0</td>\n",
       "      <td>0</td>\n",
       "      <td>0</td>\n",
       "      <td>1</td>\n",
       "    </tr>\n",
       "    <tr>\n",
       "      <th>1</th>\n",
       "      <td>1</td>\n",
       "      <td>credit_card</td>\n",
       "      <td>0.1071</td>\n",
       "      <td>228.22</td>\n",
       "      <td>11.082143</td>\n",
       "      <td>14.29</td>\n",
       "      <td>707</td>\n",
       "      <td>2760.000000</td>\n",
       "      <td>33623</td>\n",
       "      <td>76.7</td>\n",
       "      <td>0</td>\n",
       "      <td>0</td>\n",
       "      <td>0</td>\n",
       "      <td>0</td>\n",
       "      <td>1</td>\n",
       "    </tr>\n",
       "    <tr>\n",
       "      <th>2</th>\n",
       "      <td>1</td>\n",
       "      <td>debt_consolidation</td>\n",
       "      <td>0.1357</td>\n",
       "      <td>366.86</td>\n",
       "      <td>10.373491</td>\n",
       "      <td>11.63</td>\n",
       "      <td>682</td>\n",
       "      <td>4710.000000</td>\n",
       "      <td>3511</td>\n",
       "      <td>25.6</td>\n",
       "      <td>1</td>\n",
       "      <td>0</td>\n",
       "      <td>0</td>\n",
       "      <td>0</td>\n",
       "      <td>2</td>\n",
       "    </tr>\n",
       "    <tr>\n",
       "      <th>3</th>\n",
       "      <td>1</td>\n",
       "      <td>debt_consolidation</td>\n",
       "      <td>0.1008</td>\n",
       "      <td>162.34</td>\n",
       "      <td>11.350407</td>\n",
       "      <td>8.10</td>\n",
       "      <td>712</td>\n",
       "      <td>2699.958333</td>\n",
       "      <td>33667</td>\n",
       "      <td>73.2</td>\n",
       "      <td>1</td>\n",
       "      <td>0</td>\n",
       "      <td>0</td>\n",
       "      <td>0</td>\n",
       "      <td>0</td>\n",
       "    </tr>\n",
       "    <tr>\n",
       "      <th>4</th>\n",
       "      <td>1</td>\n",
       "      <td>credit_card</td>\n",
       "      <td>0.1426</td>\n",
       "      <td>102.92</td>\n",
       "      <td>11.299732</td>\n",
       "      <td>14.97</td>\n",
       "      <td>667</td>\n",
       "      <td>4066.000000</td>\n",
       "      <td>4740</td>\n",
       "      <td>39.5</td>\n",
       "      <td>0</td>\n",
       "      <td>1</td>\n",
       "      <td>0</td>\n",
       "      <td>0</td>\n",
       "      <td>1</td>\n",
       "    </tr>\n",
       "  </tbody>\n",
       "</table>\n",
       "</div>"
      ],
      "text/plain": [
       "   credit_policy             purpose  int_rate  installment  log_annual_inc  \\\n",
       "0              1  debt_consolidation    0.1189       829.10       11.350407   \n",
       "1              1         credit_card    0.1071       228.22       11.082143   \n",
       "2              1  debt_consolidation    0.1357       366.86       10.373491   \n",
       "3              1  debt_consolidation    0.1008       162.34       11.350407   \n",
       "4              1         credit_card    0.1426       102.92       11.299732   \n",
       "\n",
       "     dti  fico  days_with_cr_line  revol_bal  revol_util  inq_last_6mths  \\\n",
       "0  19.48   737        5639.958333      28854        52.1               0   \n",
       "1  14.29   707        2760.000000      33623        76.7               0   \n",
       "2  11.63   682        4710.000000       3511        25.6               1   \n",
       "3   8.10   712        2699.958333      33667        73.2               1   \n",
       "4  14.97   667        4066.000000       4740        39.5               0   \n",
       "\n",
       "   delinq_2yrs  pub_rec  not_fully_paid  cluster  \n",
       "0            0        0               0        1  \n",
       "1            0        0               0        1  \n",
       "2            0        0               0        2  \n",
       "3            0        0               0        0  \n",
       "4            1        0               0        1  "
      ]
     },
     "execution_count": 44,
     "metadata": {},
     "output_type": "execute_result"
    }
   ],
   "source": [
    "paid_back = df_clean.query('not_fully_paid  == 0')\n",
    "#paid_back = df_clean[df_clean['not_fully_paid']  == 0]\n",
    "paid_back.head()"
   ]
  },
  {
   "cell_type": "code",
   "execution_count": 45,
   "id": "26d71114",
   "metadata": {},
   "outputs": [
    {
     "data": {
      "image/png": "[encoded data removed]",
      "text/plain": [
       "<Figure size 648x144 with 1 Axes>"
      ]
     },
     "metadata": {
      "needs_background": "light"
     },
     "output_type": "display_data"
    }
   ],
   "source": [
    "plt.figure(figsize=(9,2))\n",
    "sns.boxplot(x= paid_back.days_with_cr_line / 365)\n",
    "plt.xlabel('Years with credit line')\n",
    "plt.title('Distribution of time with credit line');"
   ]
  },
  {
   "cell_type": "code",
   "execution_count": 46,
   "id": "20278d5b",
   "metadata": {},
   "outputs": [
    {
     "data": {
      "text/plain": [
       "'\\nThe boxplot show that most people have a credit line for 8-15 years (blue box),\\nwith the average being around 11 years. \\nOnly 5% have credit lines for periods longer than 27 years.\\n'"
      ]
     },
     "execution_count": 46,
     "metadata": {},
     "output_type": "execute_result"
    }
   ],
   "source": [
    "\"\"\"\n",
    "The boxplot show that most people have a credit line for 8-15 years (blue box),\n",
    "with the average being around 11 years. \n",
    "Only 5% have credit lines for periods longer than 27 years.\n",
    "\"\"\""
   ]
  },
  {
   "cell_type": "code",
   "execution_count": 47,
   "id": "a72b8925",
   "metadata": {},
   "outputs": [
    {
     "data": {
      "text/plain": [
       "Text(0.5, 1.0, 'Distribution of time with credit line by loan purpose')"
      ]
     },
     "execution_count": 47,
     "metadata": {},
     "output_type": "execute_result"
    },
    {
     "data": {
      "image/png": "[encoded data removed]",
      "text/plain": [
       "<Figure size 432x288 with 1 Axes>"
      ]
     },
     "metadata": {
      "needs_background": "light"
     },
     "output_type": "display_data"
    }
   ],
   "source": [
    "sns.boxplot(x=paid_back.days_with_cr_line/365, y=paid_back['purpose'].astype('category'))\n",
    "plt.xlabel('Years with credit line')\n",
    "plt.title('Distribution of time with credit line by loan purpose')"
   ]
  },
  {
   "cell_type": "code",
   "execution_count": 48,
   "id": "1c2298f9",
   "metadata": {},
   "outputs": [
    {
     "data": {
      "text/plain": [
       "'\\nAll purpose have the some distribution of ime with credit time line, more or\\nless.\\n'"
      ]
     },
     "execution_count": 48,
     "metadata": {},
     "output_type": "execute_result"
    }
   ],
   "source": [
    "\"\"\"\n",
    "All purpose have the some distribution of ime with credit time line, more or\n",
    "less.\n",
    "\"\"\""
   ]
  },
  {
   "cell_type": "code",
   "execution_count": 49,
   "id": "2ea3c15b",
   "metadata": {},
   "outputs": [
    {
     "data": {
      "text/plain": [
       "Text(0.5, 1.0, 'Distribution of time with credit line by cluster')"
      ]
     },
     "execution_count": 49,
     "metadata": {},
     "output_type": "execute_result"
    },
    {
     "data": {
      "image/png": "[encoded data removed]",
      "text/plain": [
       "<Figure size 432x288 with 1 Axes>"
      ]
     },
     "metadata": {
      "needs_background": "light"
     },
     "output_type": "display_data"
    }
   ],
   "source": [
    "sns.boxplot(x=paid_back.days_with_cr_line/365, y=paid_back['cluster'].astype('category'))\n",
    "plt.xlabel('Years with credit line')\n",
    "plt.title('Distribution of time with credit line by cluster')"
   ]
  },
  {
   "cell_type": "code",
   "execution_count": 50,
   "id": "6a440037",
   "metadata": {},
   "outputs": [
    {
     "data": {
      "text/plain": [
       "'\\nAccording to the data available, a loan is generally paid back in 8-15 years,\\nwith average being 11 years.\\nThe purpose of the loan does not seem to affect the pay back time, but the\\nquality of the person taking the loan does: higher risk loans tend to be\\npaid back sooner, because the have shorter credit lines.\\n'"
      ]
     },
     "execution_count": 50,
     "metadata": {},
     "output_type": "execute_result"
    }
   ],
   "source": [
    "#Answer 2:\n",
    "\"\"\"\n",
    "According to the data available, a loan is generally paid back in 8-15 years,\n",
    "with average being 11 years.\n",
    "The purpose of the loan does not seem to affect the pay back time, but the\n",
    "quality of the person taking the loan does: higher risk loans tend to be\n",
    "paid back sooner, because the have shorter credit lines.\n",
    "\"\"\""
   ]
  },
  {
   "cell_type": "markdown",
   "id": "a5d99b2d",
   "metadata": {},
   "source": [
    "# QUESTION 3: Predict the probability a user will be able to pay back their loan"
   ]
  },
  {
   "cell_type": "code",
   "execution_count": 51,
   "id": "7be16aef",
   "metadata": {},
   "outputs": [],
   "source": [
    "#Naive Training\n",
    "NUMERIC = [\"int_rate\", \"installment\", \"log_annual_inc\", \"dti\", \"fico\",]\n",
    "TARGET = [\"not_fully_paid\"]\n",
    "\n",
    "X = df_clean[NUMERIC]\n",
    "y= df_clean[TARGET]\n",
    "\n",
    "X_train_naive, X_test_naive, y_train, y_test = train_test_split(X, y, random_state=42)"
   ]
  },
  {
   "cell_type": "code",
   "execution_count": 52,
   "id": "f4017886",
   "metadata": {},
   "outputs": [
    {
     "data": {
      "text/plain": [
       "'\\nTrain models for benchmarking\\nWe will train four models for classification:\\n\\nLogistic Regression\\nRandom Forest Classifier\\nSVC\\nXGBClassifier\\n\\nSince the dataset is highly imbalanced (class 1, i.e. \"not fully paid\" is only 16%), \\nthe training will be made with a special argument for class_weights.\\n\\n'"
      ]
     },
     "execution_count": 52,
     "metadata": {},
     "output_type": "execute_result"
    }
   ],
   "source": [
    "\"\"\"\n",
    "Train models for benchmarking\n",
    "We will train four models for classification:\n",
    "\n",
    "Logistic Regression\n",
    "Random Forest Classifier\n",
    "SVC\n",
    "XGBClassifier\n",
    "\n",
    "Since the dataset is highly imbalanced (class 1, i.e. \"not fully paid\" is only 16%), \n",
    "the training will be made with a special argument for class_weights.\n",
    "\n",
    "\"\"\""
   ]
  },
  {
   "cell_type": "code",
   "execution_count": 53,
   "id": "888e220b",
   "metadata": {},
   "outputs": [
    {
     "data": {
      "text/plain": [
       "0    0.84\n",
       "1    0.16\n",
       "Name: not_fully_paid, dtype: float64"
      ]
     },
     "execution_count": 53,
     "metadata": {},
     "output_type": "execute_result"
    }
   ],
   "source": [
    "# show the ratios of target features:\n",
    "df_clean.not_fully_paid.value_counts(normalize=True).round(2)"
   ]
  },
  {
   "cell_type": "code",
   "execution_count": 54,
   "id": "c393529a",
   "metadata": {},
   "outputs": [
    {
     "name": "stdout",
     "output_type": "stream",
     "text": [
      "[09:37:52] WARNING: C:/Users/Administrator/workspace/xgboost-win64_release_1.4.0/src/learner.cc:573: \n",
      "Parameters: { \"verbose\" } might not be used.\n",
      "\n",
      "  This may not be accurate due to some parameters are only used in language bindings but\n",
      "  passed down to XGBoost core.  Or some parameters are not used but slip through this\n",
      "  verification. Please open an issue if you find above cases.\n",
      "\n",
      "\n",
      "[09:37:52] WARNING: C:/Users/Administrator/workspace/xgboost-win64_release_1.4.0/src/learner.cc:1095: Starting in XGBoost 1.3.0, the default evaluation metric used with the objective 'binary:logistic' was changed from 'error' to 'logloss'. Explicitly set eval_metric if you'd like to restore the old behavior.\n"
     ]
    },
    {
     "data": {
      "text/plain": [
       "XGBClassifier(base_score=0.5, booster='gbtree', colsample_bylevel=1,\n",
       "              colsample_bynode=1, colsample_bytree=1, gamma=0, gpu_id=-1,\n",
       "              importance_type='gain', interaction_constraints='',\n",
       "              learning_rate=0.300000012, max_delta_step=0, max_depth=6,\n",
       "              min_child_weight=1, missing=nan, monotone_constraints='()',\n",
       "              n_estimators=100, n_jobs=-1, num_parallel_tree=1, random_state=0,\n",
       "              reg_alpha=0, reg_lambda=1, scale_pos_weight=5.25, subsample=1,\n",
       "              tree_method='exact', validate_parameters=1, verbose=0,\n",
       "              verbosity=None)"
      ]
     },
     "execution_count": 54,
     "metadata": {},
     "output_type": "execute_result"
    }
   ],
   "source": [
    "#train the models\n",
    "# Logistic Regression\n",
    "lr = LogisticRegression(class_weight='balanced')\n",
    "lr.fit(X_train_naive, y_train)\n",
    "\n",
    "rf = RandomForestClassifier(class_weight='balanced')\n",
    "rf.fit(X_train_naive, y_train)\n",
    "\n",
    "svc = SVC(class_weight='balanced', probability = True)\n",
    "svc.fit(X_train_naive, y_train)\n",
    "\n",
    "xgb = XGBClassifier(scale_pos_weight = 5.25, n_jobs=-1, verbose=0)\n",
    "xgb.fit(X_train_naive, y_train)"
   ]
  },
  {
   "cell_type": "code",
   "execution_count": 55,
   "id": "2cfa0b00",
   "metadata": {},
   "outputs": [
    {
     "data": {
      "text/plain": [
       "'\\nEvaluation of models\\nFor imbalanced sets, accuracy is not a good metric: consider a model that always predicts \"class 0\" (fully paid loan); \\nin our case, this model will be correct 85% of the time, i.e. it would have a high accuracy of 85%, \\nalthough it would miss all possible not fully paid loans, which is our objective.\\n\\nThe standard score to use for imbalanced sets is roc_auc. \\nAdditionally recall & f1 score will be used, with accuracy for reference. \\nRecall is the model\\'s ability to not miss positives, while F1 score is the balance between recall & precision.\\n'"
      ]
     },
     "execution_count": 55,
     "metadata": {},
     "output_type": "execute_result"
    }
   ],
   "source": [
    "\"\"\"\n",
    "Evaluation of models\n",
    "For imbalanced sets, accuracy is not a good metric: consider a model that always predicts \"class 0\" (fully paid loan); \n",
    "in our case, this model will be correct 85% of the time, i.e. it would have a high accuracy of 85%, \n",
    "although it would miss all possible not fully paid loans, which is our objective.\n",
    "\n",
    "The standard score to use for imbalanced sets is roc_auc. \n",
    "Additionally recall & f1 score will be used, with accuracy for reference. \n",
    "Recall is the model's ability to not miss positives, while F1 score is the balance between recall & precision.\n",
    "\"\"\""
   ]
  },
  {
   "cell_type": "code",
   "execution_count": 56,
   "id": "5530822e",
   "metadata": {},
   "outputs": [],
   "source": [
    "def show_scores(models, X_train, y_train, X_test, y_test):\n",
    "    \n",
    "    scores = []\n",
    "    \n",
    "    for m in models:\n",
    "        y_pred_train = m.predict(X_train)\n",
    "        y_pred_test = m.predict(X_test)\n",
    "        y_pred_proba_train = m.predict_proba(X_train)\n",
    "        y_pred_proba_test = m.predict_proba(X_test)\n",
    "        name = f'{m}'.split(\"(\")[0]\n",
    "        \n",
    "        scores.append([name, 'roc_auc', 'train', roc_auc_score(y_train, y_pred_proba_train[:,1])])\n",
    "        scores.append([name, 'roc_auc', 'test', roc_auc_score(y_test, y_pred_proba_test[:,1])])\n",
    "        \n",
    "        scores.append([name, 'recall', 'train', recall_score(y_train, y_pred_train)])\n",
    "        scores.append([name, 'recall', 'test', recall_score(y_test, y_pred_test)])\n",
    "        \n",
    "        scores.append([name, 'f1', 'train', f1_score(y_train, y_pred_train)])\n",
    "        scores.append([name, 'f1', 'test', f1_score(y_test, y_pred_test)])\n",
    "        \n",
    "        scores.append([name, 'accuracy', 'train', accuracy_score(y_train, y_pred_train)])\n",
    "        scores.append([name, 'accuracy', 'test', accuracy_score(y_test, y_pred_test)])\n",
    "        \n",
    "    \n",
    "    scores_df = pd.DataFrame(scores, columns=['model_name', 'metric', 'set', 'score'])\n",
    "    sns.catplot(data=scores_df.query(\"set == 'test'\"), y='model_name', x='score', col='metric', kind='bar')\n",
    "    display(scores_df.pivot(index='model_name', columns=['metric', 'set'], values='score').round(2))\n",
    "    \n",
    "    return scores_df"
   ]
  },
  {
   "cell_type": "code",
   "execution_count": 57,
   "id": "3f4797f3",
   "metadata": {},
   "outputs": [
    {
     "data": {
      "text/html": [
       "<div>\n",
       "<style scoped>\n",
       "    .dataframe tbody tr th:only-of-type {\n",
       "        vertical-align: middle;\n",
       "    }\n",
       "\n",
       "    .dataframe tbody tr th {\n",
       "        vertical-align: top;\n",
       "    }\n",
       "\n",
       "    .dataframe thead tr th {\n",
       "        text-align: left;\n",
       "    }\n",
       "\n",
       "    .dataframe thead tr:last-of-type th {\n",
       "        text-align: right;\n",
       "    }\n",
       "</style>\n",
       "<table border=\"1\" class=\"dataframe\">\n",
       "  <thead>\n",
       "    <tr>\n",
       "      <th>metric</th>\n",
       "      <th colspan=\"2\" halign=\"left\">roc_auc</th>\n",
       "      <th colspan=\"2\" halign=\"left\">recall</th>\n",
       "      <th colspan=\"2\" halign=\"left\">f1</th>\n",
       "      <th colspan=\"2\" halign=\"left\">accuracy</th>\n",
       "    </tr>\n",
       "    <tr>\n",
       "      <th>set</th>\n",
       "      <th>train</th>\n",
       "      <th>test</th>\n",
       "      <th>train</th>\n",
       "      <th>test</th>\n",
       "      <th>train</th>\n",
       "      <th>test</th>\n",
       "      <th>train</th>\n",
       "      <th>test</th>\n",
       "    </tr>\n",
       "    <tr>\n",
       "      <th>model_name</th>\n",
       "      <th></th>\n",
       "      <th></th>\n",
       "      <th></th>\n",
       "      <th></th>\n",
       "      <th></th>\n",
       "      <th></th>\n",
       "      <th></th>\n",
       "      <th></th>\n",
       "    </tr>\n",
       "  </thead>\n",
       "  <tbody>\n",
       "    <tr>\n",
       "      <th>LogisticRegression</th>\n",
       "      <td>0.63</td>\n",
       "      <td>0.65</td>\n",
       "      <td>0.62</td>\n",
       "      <td>0.61</td>\n",
       "      <td>0.31</td>\n",
       "      <td>0.31</td>\n",
       "      <td>0.56</td>\n",
       "      <td>0.56</td>\n",
       "    </tr>\n",
       "    <tr>\n",
       "      <th>RandomForestClassifier</th>\n",
       "      <td>1.00</td>\n",
       "      <td>0.58</td>\n",
       "      <td>1.00</td>\n",
       "      <td>0.02</td>\n",
       "      <td>1.00</td>\n",
       "      <td>0.04</td>\n",
       "      <td>1.00</td>\n",
       "      <td>0.83</td>\n",
       "    </tr>\n",
       "    <tr>\n",
       "      <th>SVC</th>\n",
       "      <td>0.62</td>\n",
       "      <td>0.63</td>\n",
       "      <td>0.72</td>\n",
       "      <td>0.72</td>\n",
       "      <td>0.31</td>\n",
       "      <td>0.33</td>\n",
       "      <td>0.49</td>\n",
       "      <td>0.50</td>\n",
       "    </tr>\n",
       "    <tr>\n",
       "      <th>XGBClassifier</th>\n",
       "      <td>0.99</td>\n",
       "      <td>0.59</td>\n",
       "      <td>0.98</td>\n",
       "      <td>0.27</td>\n",
       "      <td>0.83</td>\n",
       "      <td>0.24</td>\n",
       "      <td>0.94</td>\n",
       "      <td>0.72</td>\n",
       "    </tr>\n",
       "  </tbody>\n",
       "</table>\n",
       "</div>"
      ],
      "text/plain": [
       "metric                 roc_auc       recall          f1       accuracy      \n",
       "set                      train  test  train  test train  test    train  test\n",
       "model_name                                                                  \n",
       "LogisticRegression        0.63  0.65   0.62  0.61  0.31  0.31     0.56  0.56\n",
       "RandomForestClassifier    1.00  0.58   1.00  0.02  1.00  0.04     1.00  0.83\n",
       "SVC                       0.62  0.63   0.72  0.72  0.31  0.33     0.49  0.50\n",
       "XGBClassifier             0.99  0.59   0.98  0.27  0.83  0.24     0.94  0.72"
      ]
     },
     "metadata": {},
     "output_type": "display_data"
    },
    {
     "data": {
      "image/png": "[encoded data removed]",
      "text/plain": [
       "<Figure size 1440x360 with 4 Axes>"
      ]
     },
     "metadata": {
      "needs_background": "light"
     },
     "output_type": "display_data"
    }
   ],
   "source": [
    "scores_naive = show_scores([lr, rf, svc, xgb], X_train_naive, y_train, X_test_naive, y_test)\n",
    "\n",
    "scores = scores_naive.rename({\"score\":\"naive\"},axis=1)"
   ]
  },
  {
   "cell_type": "code",
   "execution_count": 58,
   "id": "31a9acae",
   "metadata": {},
   "outputs": [
    {
     "data": {
      "text/plain": [
       "'\\nLogistic and SVC models had the best roc_auc score for the test set. \\nThe RandomForest classifier has the highest accuracy but is dreadfully low on recall & f1;\\n'"
      ]
     },
     "execution_count": 58,
     "metadata": {},
     "output_type": "execute_result"
    }
   ],
   "source": [
    "\"\"\"\n",
    "Logistic and SVC models had the best roc_auc score for the test set. \n",
    "The RandomForest classifier has the highest accuracy but is dreadfully low on recall & f1;\n",
    "\"\"\""
   ]
  },
  {
   "cell_type": "code",
   "execution_count": 59,
   "id": "32c20a96",
   "metadata": {},
   "outputs": [
    {
     "data": {
      "text/plain": [
       "'\\nThe scaler used is MinMaxScaler, because ultimately the training set will include several binary variables.\\n'"
      ]
     },
     "execution_count": 59,
     "metadata": {},
     "output_type": "execute_result"
    }
   ],
   "source": [
    "\"\"\"\n",
    "The scaler used is MinMaxScaler, because ultimately the training set will include several binary variables.\n",
    "\"\"\""
   ]
  },
  {
   "cell_type": "code",
   "execution_count": 60,
   "id": "98432fc5",
   "metadata": {},
   "outputs": [
    {
     "name": "stdout",
     "output_type": "stream",
     "text": [
      "[09:38:15] WARNING: C:/Users/Administrator/workspace/xgboost-win64_release_1.4.0/src/learner.cc:573: \n",
      "Parameters: { \"verbose\" } might not be used.\n",
      "\n",
      "  This may not be accurate due to some parameters are only used in language bindings but\n",
      "  passed down to XGBoost core.  Or some parameters are not used but slip through this\n",
      "  verification. Please open an issue if you find above cases.\n",
      "\n",
      "\n",
      "[09:38:15] WARNING: C:/Users/Administrator/workspace/xgboost-win64_release_1.4.0/src/learner.cc:1095: Starting in XGBoost 1.3.0, the default evaluation metric used with the objective 'binary:logistic' was changed from 'error' to 'logloss'. Explicitly set eval_metric if you'd like to restore the old behavior.\n"
     ]
    },
    {
     "data": {
      "text/html": [
       "<div>\n",
       "<style scoped>\n",
       "    .dataframe tbody tr th:only-of-type {\n",
       "        vertical-align: middle;\n",
       "    }\n",
       "\n",
       "    .dataframe tbody tr th {\n",
       "        vertical-align: top;\n",
       "    }\n",
       "\n",
       "    .dataframe thead tr th {\n",
       "        text-align: left;\n",
       "    }\n",
       "\n",
       "    .dataframe thead tr:last-of-type th {\n",
       "        text-align: right;\n",
       "    }\n",
       "</style>\n",
       "<table border=\"1\" class=\"dataframe\">\n",
       "  <thead>\n",
       "    <tr>\n",
       "      <th>metric</th>\n",
       "      <th colspan=\"2\" halign=\"left\">roc_auc</th>\n",
       "      <th colspan=\"2\" halign=\"left\">recall</th>\n",
       "      <th colspan=\"2\" halign=\"left\">f1</th>\n",
       "      <th colspan=\"2\" halign=\"left\">accuracy</th>\n",
       "    </tr>\n",
       "    <tr>\n",
       "      <th>set</th>\n",
       "      <th>train</th>\n",
       "      <th>test</th>\n",
       "      <th>train</th>\n",
       "      <th>test</th>\n",
       "      <th>train</th>\n",
       "      <th>test</th>\n",
       "      <th>train</th>\n",
       "      <th>test</th>\n",
       "    </tr>\n",
       "    <tr>\n",
       "      <th>model_name</th>\n",
       "      <th></th>\n",
       "      <th></th>\n",
       "      <th></th>\n",
       "      <th></th>\n",
       "      <th></th>\n",
       "      <th></th>\n",
       "      <th></th>\n",
       "      <th></th>\n",
       "    </tr>\n",
       "  </thead>\n",
       "  <tbody>\n",
       "    <tr>\n",
       "      <th>LogisticRegression</th>\n",
       "      <td>0.63</td>\n",
       "      <td>0.65</td>\n",
       "      <td>0.62</td>\n",
       "      <td>0.61</td>\n",
       "      <td>0.31</td>\n",
       "      <td>0.32</td>\n",
       "      <td>0.56</td>\n",
       "      <td>0.57</td>\n",
       "    </tr>\n",
       "    <tr>\n",
       "      <th>RandomForestClassifier</th>\n",
       "      <td>1.00</td>\n",
       "      <td>0.59</td>\n",
       "      <td>1.00</td>\n",
       "      <td>0.02</td>\n",
       "      <td>1.00</td>\n",
       "      <td>0.03</td>\n",
       "      <td>1.00</td>\n",
       "      <td>0.83</td>\n",
       "    </tr>\n",
       "    <tr>\n",
       "      <th>SVC</th>\n",
       "      <td>0.67</td>\n",
       "      <td>0.65</td>\n",
       "      <td>0.68</td>\n",
       "      <td>0.65</td>\n",
       "      <td>0.34</td>\n",
       "      <td>0.35</td>\n",
       "      <td>0.58</td>\n",
       "      <td>0.59</td>\n",
       "    </tr>\n",
       "    <tr>\n",
       "      <th>XGBClassifier</th>\n",
       "      <td>0.99</td>\n",
       "      <td>0.59</td>\n",
       "      <td>0.98</td>\n",
       "      <td>0.27</td>\n",
       "      <td>0.83</td>\n",
       "      <td>0.24</td>\n",
       "      <td>0.94</td>\n",
       "      <td>0.72</td>\n",
       "    </tr>\n",
       "  </tbody>\n",
       "</table>\n",
       "</div>"
      ],
      "text/plain": [
       "metric                 roc_auc       recall          f1       accuracy      \n",
       "set                      train  test  train  test train  test    train  test\n",
       "model_name                                                                  \n",
       "LogisticRegression        0.63  0.65   0.62  0.61  0.31  0.32     0.56  0.57\n",
       "RandomForestClassifier    1.00  0.59   1.00  0.02  1.00  0.03     1.00  0.83\n",
       "SVC                       0.67  0.65   0.68  0.65  0.34  0.35     0.58  0.59\n",
       "XGBClassifier             0.99  0.59   0.98  0.27  0.83  0.24     0.94  0.72"
      ]
     },
     "metadata": {},
     "output_type": "display_data"
    },
    {
     "data": {
      "image/png": "[encoded data removed]",
      "text/plain": [
       "<Figure size 1440x360 with 4 Axes>"
      ]
     },
     "metadata": {
      "needs_background": "light"
     },
     "output_type": "display_data"
    }
   ],
   "source": [
    "# scales X_train, X_test\n",
    "\n",
    "scaler = StandardScaler()\n",
    "#scaler = MinMaxScaler()\n",
    "\n",
    "X_train_scaled = scaler.fit_transform(X_train_naive)\n",
    "X_test_scaled = scaler.transform(X_test_naive)\n",
    "\n",
    "lr_scaled = LogisticRegression(class_weight='balanced')\n",
    "lr_scaled.fit(X_train_scaled, y_train)\n",
    "\n",
    "rf_scaled = RandomForestClassifier(class_weight='balanced')\n",
    "rf_scaled.fit(X_train_scaled, y_train)\n",
    "\n",
    "svc_scaled = SVC(class_weight='balanced', probability = True)\n",
    "svc_scaled.fit(X_train_scaled, y_train)\n",
    "\n",
    "xgb_scaled = XGBClassifier(scale_pos_weight = 5.25, n_jobs=-1, verbose=0)\n",
    "xgb_scaled.fit(X_train_scaled, y_train)\n",
    "\n",
    "scores_scaled = show_scores([lr_scaled, rf_scaled, svc_scaled, xgb_scaled], X_train_scaled, y_train, X_test_scaled, y_test)\n",
    "scores = scores.assign(scaled=scores_scaled.score)"
   ]
  },
  {
   "cell_type": "code",
   "execution_count": 61,
   "id": "184a4a57",
   "metadata": {},
   "outputs": [
    {
     "data": {
      "text/plain": [
       "'\\nSVC calissifier has the same roc_auc score as LogisticRegression, an improvement over the previous set. \\nSVC is also equal or better than Logistic in al lother scores as well, and seems like the best candidate so far.\\n'"
      ]
     },
     "execution_count": 61,
     "metadata": {},
     "output_type": "execute_result"
    }
   ],
   "source": [
    "\"\"\"\n",
    "SVC calissifier has the same roc_auc score as LogisticRegression, an improvement over the previous set. \n",
    "SVC is also equal or better than Logistic in al lother scores as well, and seems like the best candidate so far.\n",
    "\"\"\""
   ]
  },
  {
   "cell_type": "code",
   "execution_count": 62,
   "id": "acad5016",
   "metadata": {},
   "outputs": [
    {
     "data": {
      "text/plain": [
       "'\\nNEXT STEPS\\n. ADD more features;\\n. Convert Categorical features \\n. Scale the features as before\\n. add the interactions between features, to capture how the \\ncombination of two features might affect the probability of the \\ntarget.\\nUse the PolynomialFeatures transformer, which creates all possible\\ncombinations of two features.\\n\\nHigh Correlation - from 0.4 to 1 or -1 to -0.4.\\n\\n'"
      ]
     },
     "execution_count": 62,
     "metadata": {},
     "output_type": "execute_result"
    }
   ],
   "source": [
    "\"\"\"\n",
    "NEXT STEPS\n",
    ". ADD more features;\n",
    ". Convert Categorical features \n",
    ". Scale the features as before\n",
    ". add the interactions between features, to capture how the \n",
    "combination of two features might affect the probability of the \n",
    "target.\n",
    "Use the PolynomialFeatures transformer, which creates all possible\n",
    "combinations of two features.\n",
    "\n",
    "High Correlation - from 0.4 to 1 or -1 to -0.4.\n",
    "\n",
    "\"\"\""
   ]
  },
  {
   "cell_type": "code",
   "execution_count": 63,
   "id": "3ded51b4",
   "metadata": {},
   "outputs": [
    {
     "data": {
      "text/plain": [
       "Index(['log_annual_inc', 'dti', 'fico', 'inq_last_6mths', 'delinq_2yrs',\n",
       "       'pub_rec'],\n",
       "      dtype='object')"
      ]
     },
     "execution_count": 63,
     "metadata": {},
     "output_type": "execute_result"
    }
   ],
   "source": [
    "cors = df_clean.corrwith(df_clean.not_fully_paid)\n",
    "cors[PERSON].index"
   ]
  },
  {
   "cell_type": "code",
   "execution_count": 64,
   "id": "bbd08617",
   "metadata": {},
   "outputs": [
    {
     "data": {
      "image/png": "[encoded data removed]",
      "text/plain": [
       "<Figure size 936x216 with 2 Axes>"
      ]
     },
     "metadata": {
      "needs_background": "light"
     },
     "output_type": "display_data"
    }
   ],
   "source": [
    "fig, axes = plt.subplots(1,2, figsize=(13,3), )\n",
    "axes[0].set_xlim(-1,1)\n",
    "axes[0].set_title('Correlation of PERSON features to not fully paid loans')\n",
    "axes[1].set_xlim(-1,1)\n",
    "axes[1].set_title('Correlation of LOAN features to not fully paid loans')\n",
    "\n",
    "cors = df_clean.corrwith(df_clean.not_fully_paid)\n",
    "sns.barplot(x=cors[PERSON], y=cors[PERSON].index, ax=axes[0], color='blue')\n",
    "sns.barplot(x=cors[LOAN], y=cors[LOAN].index, ax=axes[1], color='blue')\n",
    "plt.tight_layout()"
   ]
  },
  {
   "cell_type": "code",
   "execution_count": 65,
   "id": "a175ea00",
   "metadata": {},
   "outputs": [
    {
     "data": {
      "text/plain": [
       "'\\nUnfortunately, there is no feature with either positive or negative\\ncorrelation higher than 0.2.\\n'"
      ]
     },
     "execution_count": 65,
     "metadata": {},
     "output_type": "execute_result"
    }
   ],
   "source": [
    "\"\"\"\n",
    "Unfortunately, there is no feature with either positive or negative\n",
    "correlation higher than 0.2.\n",
    "\"\"\""
   ]
  },
  {
   "cell_type": "code",
   "execution_count": 66,
   "id": "cc53f9c2",
   "metadata": {},
   "outputs": [],
   "source": [
    "NUMERIC = [\"int_rate\", \"installment\", \"log_annual_inc\", \"dti\", \"fico\", \"credit_policy\", \"days_with_cr_line\", \"revol_util\", \"inq_last_6mths\" ]\n",
    "TARGET = [\"not_fully_paid\"]\n",
    "CATEGORIC = [\"purpose\", \"cluster\"]\n",
    "\n",
    "# add features\n",
    "df_model = df_clean[NUMERIC + CATEGORIC]\n",
    "\n",
    "# convert categoricals\n",
    "df_model = pd.get_dummies(df_model, columns=CATEGORIC, drop_first=False)\n",
    "\n",
    "# scale the set\n",
    "df_model = MinMaxScaler().fit_transform(df_model)\n",
    "\n",
    "# add feature interactions\n",
    "df_model = PolynomialFeatures(2, interaction_only=True).fit_transform(df_model)"
   ]
  },
  {
   "cell_type": "code",
   "execution_count": 67,
   "id": "3800161f",
   "metadata": {},
   "outputs": [],
   "source": [
    "X = df_model\n",
    "y = df_clean[TARGET]\n",
    "\n",
    "# split the set to train and test sets\n",
    "X_train_eng, X_test_eng, y_train, y_test = train_test_split(X, y, random_state=42)"
   ]
  },
  {
   "cell_type": "code",
   "execution_count": 68,
   "id": "217a282e",
   "metadata": {},
   "outputs": [
    {
     "name": "stdout",
     "output_type": "stream",
     "text": [
      "[09:39:03] WARNING: C:/Users/Administrator/workspace/xgboost-win64_release_1.4.0/src/learner.cc:1095: Starting in XGBoost 1.3.0, the default evaluation metric used with the objective 'binary:logistic' was changed from 'error' to 'logloss'. Explicitly set eval_metric if you'd like to restore the old behavior.\n"
     ]
    },
    {
     "data": {
      "text/html": [
       "<div>\n",
       "<style scoped>\n",
       "    .dataframe tbody tr th:only-of-type {\n",
       "        vertical-align: middle;\n",
       "    }\n",
       "\n",
       "    .dataframe tbody tr th {\n",
       "        vertical-align: top;\n",
       "    }\n",
       "\n",
       "    .dataframe thead tr th {\n",
       "        text-align: left;\n",
       "    }\n",
       "\n",
       "    .dataframe thead tr:last-of-type th {\n",
       "        text-align: right;\n",
       "    }\n",
       "</style>\n",
       "<table border=\"1\" class=\"dataframe\">\n",
       "  <thead>\n",
       "    <tr>\n",
       "      <th>metric</th>\n",
       "      <th colspan=\"2\" halign=\"left\">roc_auc</th>\n",
       "      <th colspan=\"2\" halign=\"left\">recall</th>\n",
       "      <th colspan=\"2\" halign=\"left\">f1</th>\n",
       "      <th colspan=\"2\" halign=\"left\">accuracy</th>\n",
       "    </tr>\n",
       "    <tr>\n",
       "      <th>set</th>\n",
       "      <th>train</th>\n",
       "      <th>test</th>\n",
       "      <th>train</th>\n",
       "      <th>test</th>\n",
       "      <th>train</th>\n",
       "      <th>test</th>\n",
       "      <th>train</th>\n",
       "      <th>test</th>\n",
       "    </tr>\n",
       "    <tr>\n",
       "      <th>model_name</th>\n",
       "      <th></th>\n",
       "      <th></th>\n",
       "      <th></th>\n",
       "      <th></th>\n",
       "      <th></th>\n",
       "      <th></th>\n",
       "      <th></th>\n",
       "      <th></th>\n",
       "    </tr>\n",
       "  </thead>\n",
       "  <tbody>\n",
       "    <tr>\n",
       "      <th>LogisticRegression</th>\n",
       "      <td>0.69</td>\n",
       "      <td>0.70</td>\n",
       "      <td>0.63</td>\n",
       "      <td>0.62</td>\n",
       "      <td>0.36</td>\n",
       "      <td>0.37</td>\n",
       "      <td>0.64</td>\n",
       "      <td>0.65</td>\n",
       "    </tr>\n",
       "    <tr>\n",
       "      <th>RandomForestClassifier</th>\n",
       "      <td>1.00</td>\n",
       "      <td>0.66</td>\n",
       "      <td>1.00</td>\n",
       "      <td>0.02</td>\n",
       "      <td>1.00</td>\n",
       "      <td>0.03</td>\n",
       "      <td>1.00</td>\n",
       "      <td>0.83</td>\n",
       "    </tr>\n",
       "    <tr>\n",
       "      <th>SVC</th>\n",
       "      <td>0.70</td>\n",
       "      <td>0.69</td>\n",
       "      <td>0.59</td>\n",
       "      <td>0.58</td>\n",
       "      <td>0.35</td>\n",
       "      <td>0.36</td>\n",
       "      <td>0.65</td>\n",
       "      <td>0.66</td>\n",
       "    </tr>\n",
       "    <tr>\n",
       "      <th>XGBClassifier</th>\n",
       "      <td>1.00</td>\n",
       "      <td>0.63</td>\n",
       "      <td>1.00</td>\n",
       "      <td>0.25</td>\n",
       "      <td>0.97</td>\n",
       "      <td>0.28</td>\n",
       "      <td>0.99</td>\n",
       "      <td>0.78</td>\n",
       "    </tr>\n",
       "  </tbody>\n",
       "</table>\n",
       "</div>"
      ],
      "text/plain": [
       "metric                 roc_auc       recall          f1       accuracy      \n",
       "set                      train  test  train  test train  test    train  test\n",
       "model_name                                                                  \n",
       "LogisticRegression        0.69  0.70   0.63  0.62  0.36  0.37     0.64  0.65\n",
       "RandomForestClassifier    1.00  0.66   1.00  0.02  1.00  0.03     1.00  0.83\n",
       "SVC                       0.70  0.69   0.59  0.58  0.35  0.36     0.65  0.66\n",
       "XGBClassifier             1.00  0.63   1.00  0.25  0.97  0.28     0.99  0.78"
      ]
     },
     "metadata": {},
     "output_type": "display_data"
    },
    {
     "data": {
      "image/png": "[encoded data removed]",
      "text/plain": [
       "<Figure size 1440x360 with 4 Axes>"
      ]
     },
     "metadata": {
      "needs_background": "light"
     },
     "output_type": "display_data"
    }
   ],
   "source": [
    "# dummies, poly, scaled X_train, X_test\n",
    "\n",
    "lr_eng = LogisticRegression(class_weight='balanced')\n",
    "lr_eng.fit(X_train_eng, y_train)\n",
    "\n",
    "rf_eng = RandomForestClassifier(class_weight='balanced')\n",
    "rf_eng.fit(X_train_eng, y_train)\n",
    "\n",
    "svc_eng = SVC(class_weight='balanced', probability=True)\n",
    "svc_eng.fit(X_train_eng, y_train)\n",
    "\n",
    "xgb_eng = XGBClassifier(scale_pos_weight = 5.25, n_jobs=-1,)\n",
    "xgb_eng.fit(X_train_eng, y_train)\n",
    "\n",
    "scores_eng = show_scores([lr_eng, rf_eng, svc_eng, xgb_eng], X_train_eng, y_train, X_test_eng, y_test)\n",
    "scores = scores.assign(eng=scores_eng.score)"
   ]
  },
  {
   "cell_type": "code",
   "execution_count": 69,
   "id": "01d978ea",
   "metadata": {},
   "outputs": [
    {
     "data": {
      "text/plain": [
       "'\\nAs expected, since our initial training dataset only had five features, adding more features resulted in better performance.\\nAll four models haver better roc_auc scores. \\n'"
      ]
     },
     "execution_count": 69,
     "metadata": {},
     "output_type": "execute_result"
    }
   ],
   "source": [
    "\"\"\"\n",
    "As expected, since our initial training dataset only had five features, adding more features resulted in better performance.\n",
    "All four models haver better roc_auc scores. \n",
    "\"\"\""
   ]
  },
  {
   "cell_type": "code",
   "execution_count": 83,
   "id": "87b456ca",
   "metadata": {},
   "outputs": [
    {
     "name": "stdout",
     "output_type": "stream",
     "text": [
      "Fitting 3 folds for each of 2 candidates, totalling 6 fits\n",
      "Best params:  {'C': 0.4, 'max_iter': 50, 'penalty': 'l1', 'solver': 'saga'}\n"
     ]
    }
   ],
   "source": [
    "# GridSearchCV\n",
    "\n",
    "#LOGISTIC REGRESSION\n",
    "\n",
    "\"\"\"\n",
    "params_lr = {\n",
    "    'C': np.arange(0.1, 1.3, 0.3),\n",
    "    'max_iter': np.arange(50,2000, 100),\n",
    "    'penalty': ['l1', 'l2', 'elasticnet', 'none'],\n",
    "    'solver': ['newton-cg', 'lbfgs', 'liblinear', 'sag', 'saga']\n",
    "}\n",
    "\"\"\"\n",
    "params_lr = {\n",
    "    'C': [0.4] ,\n",
    "    'max_iter': [50],\n",
    "    'penalty': ['l1'],\n",
    "    'solver': ['sag', 'saga']\n",
    "}\n",
    "\n",
    "\n",
    "lr_cv = GridSearchCV(estimator=LogisticRegression(class_weight='balanced'),\n",
    "                     param_grid=params_lr,\n",
    "                     cv=3,\n",
    "                     n_jobs = 1,\n",
    "                     verbose=1,\n",
    "                     scoring = 'roc_auc'                  \n",
    "                    )\n",
    "\n",
    "lr_cv.fit(X_train_eng, y_train)\n",
    "best_params_lr = lr_cv.best_params_\n",
    "print(\"Best params: \",best_params_lr)\n",
    "\n",
    "#Best params:  {'C': 0.4, 'max_iter': 50, 'penalty': 'l1', 'solver': 'saga'}"
   ]
  },
  {
   "cell_type": "code",
   "execution_count": 84,
   "id": "e568e3c8",
   "metadata": {},
   "outputs": [
    {
     "name": "stdout",
     "output_type": "stream",
     "text": [
      "Fitting 3 folds for each of 360 candidates, totalling 1080 fits\n",
      "Best params:  {'C': 0.4, 'max_iter': 50, 'penalty': 'l1', 'solver': 'saga'}\n"
     ]
    }
   ],
   "source": [
    "#RANDOM FOREST\n",
    "\n",
    "params_rf = {\n",
    "    'max_depth' : np.arange(3,9,1),\n",
    "    'max_leaf_nodes' : np.arange(7,22,1),\n",
    "    'min_samples_leaf': np.arange(1,5),\n",
    "}\n",
    "\n",
    "rf_cv = GridSearchCV(estimator= RandomForestClassifier(class_weight='balanced'),\n",
    "                     param_grid=params_rf,\n",
    "                     cv=3,\n",
    "                     n_jobs=-1,\n",
    "                     verbose=1,\n",
    "                     scoring='roc_auc'\n",
    "                    )\n",
    "\n",
    "rf_cv.fit(X_train_eng, y_train)\n",
    "best_params_rf = rf_cv.best_params_\n",
    "print(\"Best params: \",best_params_rf)\n",
    "#Best params:  {'max_depth': 7, 'max_leaf_nodes': 19, 'min_samples_leaf': 3}"
   ]
  },
  {
   "cell_type": "code",
   "execution_count": 86,
   "id": "079553d5",
   "metadata": {},
   "outputs": [
    {
     "name": "stdout",
     "output_type": "stream",
     "text": [
      "Fitting 3 folds for each of 1 candidates, totalling 3 fits\n",
      "[LibSVM]Best params:  {'gamma': 'scale', 'kernel': 'linear', 'max_iter': -1}\n"
     ]
    }
   ],
   "source": [
    "#CVS\n",
    "\n",
    "\"\"\"\n",
    "params_svc = {\n",
    "    'kernel' : [ 'linear', 'poly', 'rbf', 'sigmoid', ],\n",
    "    'max_iter' : [-1,50000,100000,200000,300000],\n",
    "    'gamma' : ['scale','auto', 0.001, 0.01, 0.1]\n",
    "}\n",
    "\"\"\"\n",
    "\n",
    "params_svc = {\n",
    "    'kernel' : [ 'linear'],\n",
    "    'max_iter' : [-1],\n",
    "    'gamma' : ['scale']\n",
    "}\n",
    "\n",
    "\n",
    "svc_cv = GridSearchCV(estimator=SVC(probability=True, class_weight='balanced', verbose=3),\n",
    "                     param_grid=params_svc,\n",
    "                     cv=3,\n",
    "                     n_jobs=-1,\n",
    "                     verbose=3,\n",
    "                     scoring='roc_auc'\n",
    "                     )\n",
    "\n",
    "svc_cv.fit(X_train_eng, y_train)\n",
    "best_params_svc = svc_cv.best_params_\n",
    "print(\"Best params: \",best_params_svc)\n",
    "#Best params:  {'gamma': 'scale', 'kernel': 'linear', 'max_iter': -1}"
   ]
  },
  {
   "cell_type": "code",
   "execution_count": 88,
   "id": "bdd0b764",
   "metadata": {},
   "outputs": [
    {
     "name": "stdout",
     "output_type": "stream",
     "text": [
      "Fitting 3 folds for each of 1 candidates, totalling 3 fits\n",
      "[10:09:56] WARNING: C:/Users/Administrator/workspace/xgboost-win64_release_1.4.0/src/learner.cc:573: \n",
      "Parameters: { \"verbose\" } might not be used.\n",
      "\n",
      "  This may not be accurate due to some parameters are only used in language bindings but\n",
      "  passed down to XGBoost core.  Or some parameters are not used but slip through this\n",
      "  verification. Please open an issue if you find above cases.\n",
      "\n",
      "\n",
      "[10:09:56] WARNING: C:/Users/Administrator/workspace/xgboost-win64_release_1.4.0/src/learner.cc:1095: Starting in XGBoost 1.3.0, the default evaluation metric used with the objective 'binary:logistic' was changed from 'error' to 'logloss'. Explicitly set eval_metric if you'd like to restore the old behavior.\n",
      "Best params:  {'colsample_bytree': 0.5, 'gamma': 0.6, 'learning_rate': 0.01, 'max_depth': 4, 'reg_lambda': 10, 'scale_pos_weight': 4, 'subsample': 0.7}\n"
     ]
    }
   ],
   "source": [
    "#XGBClassifier\n",
    "\n",
    "\"\"\"\n",
    "params_xgb = {\n",
    "    \"max_depth\": [4, 5, 7],\n",
    "    \"learning_rate\": [0.1, 0.01, 0.05],\n",
    "    \"gamma\": [0, 0.3, 0.6],\n",
    "    \"reg_lambda\": [0, 1, 10],\n",
    "    \"scale_pos_weight\": [ 4, 5, 6],\n",
    "    \"subsample\": [0.6, 0.7, 0.8],\n",
    "    \"colsample_bytree\": [0.5, 0.6, 0.7],\n",
    "}\n",
    "\"\"\"\n",
    "\n",
    "params_xgb = {\n",
    "    \"max_depth\": [4],\n",
    "    \"learning_rate\": [0.01],\n",
    "    \"gamma\": [0.6],\n",
    "    \"reg_lambda\": [10],\n",
    "    \"scale_pos_weight\": [ 4 ],\n",
    "    \"subsample\": [0.7],\n",
    "    \"colsample_bytree\": [0.5],\n",
    "}\n",
    "\n",
    "\n",
    "xgb_cv = GridSearchCV(estimator=XGBClassifier(scale_pos_weight = 0.1903518, n_jobs=-1, verbose=3),\n",
    "                     param_grid=params_xgb,\n",
    "                     cv=3,\n",
    "                     n_jobs=-1,\n",
    "                     verbose=3,\n",
    "                     scoring='roc_auc'\n",
    "                     )\n",
    "\n",
    "xgb_cv.fit(X_train_eng, y_train)\n",
    "best_params_xgb = xgb_cv.best_params_\n",
    "print(\"Best params: \",best_params_xgb)\n",
    "# Best params:  {'colsample_bytree': 0.5, 'gamma': 0.6, 'learning_rate': 0.01, 'max_depth': 4, 'reg_lambda': 10, 'scale_pos_weight': 4, 'subsample': 0.7}"
   ]
  },
  {
   "cell_type": "code",
   "execution_count": 89,
   "id": "2ce87aa7",
   "metadata": {},
   "outputs": [],
   "source": [
    "# Train models with the best results from Grid Search\n",
    "\n",
    "best_params_lr = {'C': 0.4, 'max_iter': 50, 'penalty': 'l1', 'solver': 'saga'}\n",
    "best_params_rf =  {'max_depth': 6, 'max_leaf_nodes': 8, 'min_samples_leaf': 3}\n",
    "best_params_svc = {'gamma': 'scale', 'kernel': 'linear', 'max_iter': -1}\n",
    "best_params_xgb = {'colsample_bytree': 0.5, 'gamma': 0.6, 'learning_rate': 0.01, 'max_depth': 4, 'reg_lambda': 10, 'scale_pos_weight': 4, 'subsample': 0.7}"
   ]
  },
  {
   "cell_type": "code",
   "execution_count": 91,
   "id": "7eb12b43",
   "metadata": {},
   "outputs": [
    {
     "name": "stdout",
     "output_type": "stream",
     "text": [
      "[10:14:04] WARNING: C:/Users/Administrator/workspace/xgboost-win64_release_1.4.0/src/learner.cc:1095: Starting in XGBoost 1.3.0, the default evaluation metric used with the objective 'binary:logistic' was changed from 'error' to 'logloss'. Explicitly set eval_metric if you'd like to restore the old behavior.\n"
     ]
    },
    {
     "data": {
      "text/plain": [
       "XGBClassifier(base_score=0.5, booster='gbtree', colsample_bylevel=1,\n",
       "              colsample_bynode=1, colsample_bytree=0.5, gamma=0.6, gpu_id=-1,\n",
       "              importance_type='gain', interaction_constraints='',\n",
       "              learning_rate=0.01, max_delta_step=0, max_depth=4,\n",
       "              min_child_weight=1, missing=nan, monotone_constraints='()',\n",
       "              n_estimators=100, n_jobs=8, num_parallel_tree=1, random_state=0,\n",
       "              reg_alpha=0, reg_lambda=10, scale_pos_weight=4, subsample=0.7,\n",
       "              tree_method='exact', validate_parameters=1, verbosity=None)"
      ]
     },
     "execution_count": 91,
     "metadata": {},
     "output_type": "execute_result"
    }
   ],
   "source": [
    "### train models with the hyperparams found by GridSearchCV :\n",
    "\n",
    "lr_cv = LogisticRegression(**best_params_lr, class_weight='balanced')\n",
    "lr_cv.fit(X_train_eng , y_train)\n",
    "\n",
    "rf_cv = RandomForestClassifier(**best_params_rf, class_weight='balanced')\n",
    "rf_cv.fit(X_train_eng , y_train)\n",
    "\n",
    "svc_cv = SVC(**best_params_svc, probability=True, class_weight='balanced')\n",
    "svc_cv.fit(X_train_eng , y_train)\n",
    "\n",
    "xgb_cv = XGBClassifier(**best_params_xgb)\n",
    "xgb_cv.fit(X_train_eng , y_train)"
   ]
  },
  {
   "cell_type": "code",
   "execution_count": 100,
   "id": "eb0ee31a",
   "metadata": {},
   "outputs": [
    {
     "data": {
      "text/html": [
       "<div>\n",
       "<style scoped>\n",
       "    .dataframe tbody tr th:only-of-type {\n",
       "        vertical-align: middle;\n",
       "    }\n",
       "\n",
       "    .dataframe tbody tr th {\n",
       "        vertical-align: top;\n",
       "    }\n",
       "\n",
       "    .dataframe thead tr th {\n",
       "        text-align: left;\n",
       "    }\n",
       "\n",
       "    .dataframe thead tr:last-of-type th {\n",
       "        text-align: right;\n",
       "    }\n",
       "</style>\n",
       "<table border=\"1\" class=\"dataframe\">\n",
       "  <thead>\n",
       "    <tr>\n",
       "      <th>metric</th>\n",
       "      <th colspan=\"2\" halign=\"left\">roc_auc</th>\n",
       "      <th colspan=\"2\" halign=\"left\">recall</th>\n",
       "      <th colspan=\"2\" halign=\"left\">f1</th>\n",
       "      <th colspan=\"2\" halign=\"left\">accuracy</th>\n",
       "    </tr>\n",
       "    <tr>\n",
       "      <th>set</th>\n",
       "      <th>train</th>\n",
       "      <th>test</th>\n",
       "      <th>train</th>\n",
       "      <th>test</th>\n",
       "      <th>train</th>\n",
       "      <th>test</th>\n",
       "      <th>train</th>\n",
       "      <th>test</th>\n",
       "    </tr>\n",
       "    <tr>\n",
       "      <th>model_name</th>\n",
       "      <th></th>\n",
       "      <th></th>\n",
       "      <th></th>\n",
       "      <th></th>\n",
       "      <th></th>\n",
       "      <th></th>\n",
       "      <th></th>\n",
       "      <th></th>\n",
       "    </tr>\n",
       "  </thead>\n",
       "  <tbody>\n",
       "    <tr>\n",
       "      <th>LogisticRegression</th>\n",
       "      <td>0.68</td>\n",
       "      <td>0.71</td>\n",
       "      <td>0.62</td>\n",
       "      <td>0.63</td>\n",
       "      <td>0.35</td>\n",
       "      <td>0.37</td>\n",
       "      <td>0.63</td>\n",
       "      <td>0.65</td>\n",
       "    </tr>\n",
       "    <tr>\n",
       "      <th>RandomForestClassifier</th>\n",
       "      <td>0.69</td>\n",
       "      <td>0.69</td>\n",
       "      <td>0.62</td>\n",
       "      <td>0.59</td>\n",
       "      <td>0.36</td>\n",
       "      <td>0.37</td>\n",
       "      <td>0.66</td>\n",
       "      <td>0.66</td>\n",
       "    </tr>\n",
       "    <tr>\n",
       "      <th>SVC</th>\n",
       "      <td>0.69</td>\n",
       "      <td>0.70</td>\n",
       "      <td>0.60</td>\n",
       "      <td>0.61</td>\n",
       "      <td>0.35</td>\n",
       "      <td>0.37</td>\n",
       "      <td>0.65</td>\n",
       "      <td>0.66</td>\n",
       "    </tr>\n",
       "    <tr>\n",
       "      <th>XGBClassifier</th>\n",
       "      <td>0.73</td>\n",
       "      <td>0.69</td>\n",
       "      <td>0.43</td>\n",
       "      <td>0.39</td>\n",
       "      <td>0.38</td>\n",
       "      <td>0.36</td>\n",
       "      <td>0.78</td>\n",
       "      <td>0.77</td>\n",
       "    </tr>\n",
       "  </tbody>\n",
       "</table>\n",
       "</div>"
      ],
      "text/plain": [
       "metric                 roc_auc       recall          f1       accuracy      \n",
       "set                      train  test  train  test train  test    train  test\n",
       "model_name                                                                  \n",
       "LogisticRegression        0.68  0.71   0.62  0.63  0.35  0.37     0.63  0.65\n",
       "RandomForestClassifier    0.69  0.69   0.62  0.59  0.36  0.37     0.66  0.66\n",
       "SVC                       0.69  0.70   0.60  0.61  0.35  0.37     0.65  0.66\n",
       "XGBClassifier             0.73  0.69   0.43  0.39  0.38  0.36     0.78  0.77"
      ]
     },
     "metadata": {},
     "output_type": "display_data"
    },
    {
     "data": {
      "image/png": "[encoded data removed]",
      "text/plain": [
       "<Figure size 1440x360 with 4 Axes>"
      ]
     },
     "metadata": {
      "needs_background": "light"
     },
     "output_type": "display_data"
    }
   ],
   "source": [
    "scores_best = show_scores([lr_cv, rf_cv, svc_cv, xgb_cv], X_train_eng, y_train, X_test_eng, y_test)\n",
    "scores = scores.assign(cv=scores_best.score)"
   ]
  },
  {
   "cell_type": "code",
   "execution_count": 103,
   "id": "69188515",
   "metadata": {},
   "outputs": [
    {
     "data": {
      "image/png": "[encoded data removed]",
      "text/plain": [
       "<Figure size 1508.25x360 with 4 Axes>"
      ]
     },
     "metadata": {
      "needs_background": "light"
     },
     "output_type": "display_data"
    }
   ],
   "source": [
    "#Comparison of Results\n",
    "\n",
    "g = sns.catplot(data = scores.melt(id_vars=['model_name', 'metric', 'set']).query('set == \"test\"'), y='value', x='model_name',\n",
    "               col='metric', hue='variable', kind='bar', palette='Spectral')\n",
    "g.set_xticklabels(rotation=55);"
   ]
  },
  {
   "cell_type": "code",
   "execution_count": null,
   "id": "c309bcfb",
   "metadata": {},
   "outputs": [],
   "source": [
    "\"\"\"\n",
    "In general, it is obvious that the models trained with GridSearchCV have the\n",
    "highest roc_auc scores and outperform the other models in the rest of the scores \n",
    "as well.\n",
    "\"\"\""
   ]
  },
  {
   "cell_type": "code",
   "execution_count": 106,
   "id": "2bf4800b",
   "metadata": {},
   "outputs": [
    {
     "name": "stdout",
     "output_type": "stream",
     "text": [
      "[10:35:04] WARNING: C:/Users/Administrator/workspace/xgboost-win64_release_1.4.0/src/learner.cc:1095: Starting in XGBoost 1.3.0, the default evaluation metric used with the objective 'binary:logistic' was changed from 'error' to 'logloss'. Explicitly set eval_metric if you'd like to restore the old behavior.\n",
      "[10:35:04] WARNING: C:/Users/Administrator/workspace/xgboost-win64_release_1.4.0/src/learner.cc:1095: Starting in XGBoost 1.3.0, the default evaluation metric used with the objective 'binary:logistic' was changed from 'error' to 'logloss'. Explicitly set eval_metric if you'd like to restore the old behavior.\n",
      "[10:35:05] WARNING: C:/Users/Administrator/workspace/xgboost-win64_release_1.4.0/src/learner.cc:1095: Starting in XGBoost 1.3.0, the default evaluation metric used with the objective 'binary:logistic' was changed from 'error' to 'logloss'. Explicitly set eval_metric if you'd like to restore the old behavior.\n"
     ]
    },
    {
     "data": {
      "text/plain": [
       "CalibratedClassifierCV(base_estimator=XGBClassifier(base_score=0.5,\n",
       "                                                    booster='gbtree',\n",
       "                                                    colsample_bylevel=1,\n",
       "                                                    colsample_bynode=1,\n",
       "                                                    colsample_bytree=0.5,\n",
       "                                                    gamma=0.6, gpu_id=-1,\n",
       "                                                    importance_type='gain',\n",
       "                                                    interaction_constraints='',\n",
       "                                                    learning_rate=0.01,\n",
       "                                                    max_delta_step=0,\n",
       "                                                    max_depth=4,\n",
       "                                                    min_child_weight=1,\n",
       "                                                    missing=nan,\n",
       "                                                    monotone_constraints='()',\n",
       "                                                    n_estimators=100, n_jobs=8,\n",
       "                                                    num_parallel_tree=1,\n",
       "                                                    random_state=0, reg_alpha=0,\n",
       "                                                    reg_lambda=10,\n",
       "                                                    scale_pos_weight=4,\n",
       "                                                    subsample=0.7,\n",
       "                                                    tree_method='exact',\n",
       "                                                    validate_parameters=1,\n",
       "                                                    verbosity=None),\n",
       "                       cv=3)"
      ]
     },
     "execution_count": 106,
     "metadata": {},
     "output_type": "execute_result"
    }
   ],
   "source": [
    "# Calibrate each of the CV models\n",
    "\n",
    "lr_cal = CalibratedClassifierCV(lr_cv, method='sigmoid', cv=3)\n",
    "rf_cal = CalibratedClassifierCV(rf_cv, method='sigmoid', cv=3)\n",
    "svc_cal = CalibratedClassifierCV(svc_cv, method='sigmoid', cv=3)\n",
    "xgb_cal = CalibratedClassifierCV(xgb_cv, method='sigmoid', cv=3)\n",
    "\n",
    "lr_cal.fit(X_train_eng, y_train)\n",
    "rf_cal.fit(X_train_eng, y_train)\n",
    "svc_cal.fit(X_train_eng, y_train)\n",
    "xgb_cal.fit(X_train_eng, y_train)"
   ]
  },
  {
   "cell_type": "code",
   "execution_count": 109,
   "id": "833da783",
   "metadata": {},
   "outputs": [
    {
     "data": {
      "text/plain": [
       "Text(0.5, 1.0, 'ROC curves for models')"
      ]
     },
     "execution_count": 109,
     "metadata": {},
     "output_type": "execute_result"
    },
    {
     "data": {
      "image/png": "[encoded data removed]",
      "text/plain": [
       "<Figure size 432x432 with 1 Axes>"
      ]
     },
     "metadata": {
      "needs_background": "light"
     },
     "output_type": "display_data"
    }
   ],
   "source": [
    "#plot roc curves\n",
    "\n",
    "plt.figure(figsize=(6,6))\n",
    "for model in [lr_cal, rf_cal, svc_cal, xgb_cal]:\n",
    "    fpr, tpr, thres = roc_curve(y_test, model.predict_proba(X_test_eng)[:,1])\n",
    "    \n",
    "    plt.plot(fpr, tpr, label=f'{model.base_estimator}'.split('(')[0])\n",
    "    \n",
    "plt.legend()\n",
    "plt.xlabel('False Positive Rate')\n",
    "plt.ylabel('True Positive Rate')\n",
    "plt.title('ROC curves for models')\n"
   ]
  },
  {
   "cell_type": "code",
   "execution_count": null,
   "id": "23e0f047",
   "metadata": {},
   "outputs": [],
   "source": [
    "\"\"\"\n",
    "The roc curve, the more area there is undera curve, the better the model\n",
    "perfoms; the area under the curve is the roc_auc score we used before.\n",
    "All models seem to perform equally well.\n",
    "\n",
    "\"\"\""
   ]
  },
  {
   "cell_type": "code",
   "execution_count": 110,
   "id": "808e8b41",
   "metadata": {},
   "outputs": [
    {
     "data": {
      "text/plain": [
       "<Figure size 432x288 with 0 Axes>"
      ]
     },
     "metadata": {},
     "output_type": "display_data"
    },
    {
     "data": {
      "image/png": "[encoded data removed]",
      "text/plain": [
       "<Figure size 1440x360 with 4 Axes>"
      ]
     },
     "metadata": {
      "needs_background": "light"
     },
     "output_type": "display_data"
    }
   ],
   "source": [
    "plt.figure(figsize=(6,4))\n",
    "g = sns.catplot(data=scores.melt(id_vars=['model_name','metric','set']).query('set == \"test\" & variable==\"cv\"'), y='value', x='model_name', col='metric', kind='bar')\n",
    "g.set_xticklabels(rotation=55);"
   ]
  },
  {
   "cell_type": "code",
   "execution_count": 113,
   "id": "45b31ac6",
   "metadata": {},
   "outputs": [
    {
     "data": {
      "text/html": [
       "<div>\n",
       "<style scoped>\n",
       "    .dataframe tbody tr th:only-of-type {\n",
       "        vertical-align: middle;\n",
       "    }\n",
       "\n",
       "    .dataframe tbody tr th {\n",
       "        vertical-align: top;\n",
       "    }\n",
       "\n",
       "    .dataframe thead th {\n",
       "        text-align: right;\n",
       "    }\n",
       "</style>\n",
       "<table border=\"1\" class=\"dataframe\">\n",
       "  <thead>\n",
       "    <tr style=\"text-align: right;\">\n",
       "      <th></th>\n",
       "      <th>model_name</th>\n",
       "      <th>metric</th>\n",
       "      <th>set</th>\n",
       "      <th>naive</th>\n",
       "      <th>scaled</th>\n",
       "      <th>eng</th>\n",
       "      <th>cv</th>\n",
       "    </tr>\n",
       "  </thead>\n",
       "  <tbody>\n",
       "    <tr>\n",
       "      <th>1</th>\n",
       "      <td>LogisticRegression</td>\n",
       "      <td>roc_auc</td>\n",
       "      <td>test</td>\n",
       "      <td>0.65</td>\n",
       "      <td>0.65</td>\n",
       "      <td>0.70</td>\n",
       "      <td>0.71</td>\n",
       "    </tr>\n",
       "    <tr>\n",
       "      <th>17</th>\n",
       "      <td>SVC</td>\n",
       "      <td>roc_auc</td>\n",
       "      <td>test</td>\n",
       "      <td>0.63</td>\n",
       "      <td>0.65</td>\n",
       "      <td>0.69</td>\n",
       "      <td>0.70</td>\n",
       "    </tr>\n",
       "    <tr>\n",
       "      <th>25</th>\n",
       "      <td>XGBClassifier</td>\n",
       "      <td>roc_auc</td>\n",
       "      <td>test</td>\n",
       "      <td>0.59</td>\n",
       "      <td>0.59</td>\n",
       "      <td>0.63</td>\n",
       "      <td>0.69</td>\n",
       "    </tr>\n",
       "    <tr>\n",
       "      <th>9</th>\n",
       "      <td>RandomForestClassifier</td>\n",
       "      <td>roc_auc</td>\n",
       "      <td>test</td>\n",
       "      <td>0.58</td>\n",
       "      <td>0.59</td>\n",
       "      <td>0.66</td>\n",
       "      <td>0.69</td>\n",
       "    </tr>\n",
       "  </tbody>\n",
       "</table>\n",
       "</div>"
      ],
      "text/plain": [
       "                model_name   metric   set  naive  scaled   eng    cv\n",
       "1       LogisticRegression  roc_auc  test   0.65    0.65  0.70  0.71\n",
       "17                     SVC  roc_auc  test   0.63    0.65  0.69  0.70\n",
       "25           XGBClassifier  roc_auc  test   0.59    0.59  0.63  0.69\n",
       "9   RandomForestClassifier  roc_auc  test   0.58    0.59  0.66  0.69"
      ]
     },
     "execution_count": 113,
     "metadata": {},
     "output_type": "execute_result"
    }
   ],
   "source": [
    "# sort the models based on their roc_auc score for the test set:\n",
    "scores.query('set==\"test\" & metric==\"roc_auc\"').sort_values(by='cv', ascending=False).round(2)"
   ]
  },
  {
   "cell_type": "code",
   "execution_count": 114,
   "id": "a6e87d4d",
   "metadata": {},
   "outputs": [
    {
     "data": {
      "text/html": [
       "<div>\n",
       "<style scoped>\n",
       "    .dataframe tbody tr th:only-of-type {\n",
       "        vertical-align: middle;\n",
       "    }\n",
       "\n",
       "    .dataframe tbody tr th {\n",
       "        vertical-align: top;\n",
       "    }\n",
       "\n",
       "    .dataframe thead th {\n",
       "        text-align: right;\n",
       "    }\n",
       "</style>\n",
       "<table border=\"1\" class=\"dataframe\">\n",
       "  <thead>\n",
       "    <tr style=\"text-align: right;\">\n",
       "      <th></th>\n",
       "      <th>model_name</th>\n",
       "      <th>metric</th>\n",
       "      <th>set</th>\n",
       "      <th>naive</th>\n",
       "      <th>scaled</th>\n",
       "      <th>eng</th>\n",
       "      <th>cv</th>\n",
       "    </tr>\n",
       "  </thead>\n",
       "  <tbody>\n",
       "    <tr>\n",
       "      <th>3</th>\n",
       "      <td>LogisticRegression</td>\n",
       "      <td>recall</td>\n",
       "      <td>test</td>\n",
       "      <td>0.61</td>\n",
       "      <td>0.61</td>\n",
       "      <td>0.62</td>\n",
       "      <td>0.63</td>\n",
       "    </tr>\n",
       "    <tr>\n",
       "      <th>19</th>\n",
       "      <td>SVC</td>\n",
       "      <td>recall</td>\n",
       "      <td>test</td>\n",
       "      <td>0.72</td>\n",
       "      <td>0.65</td>\n",
       "      <td>0.58</td>\n",
       "      <td>0.61</td>\n",
       "    </tr>\n",
       "    <tr>\n",
       "      <th>11</th>\n",
       "      <td>RandomForestClassifier</td>\n",
       "      <td>recall</td>\n",
       "      <td>test</td>\n",
       "      <td>0.02</td>\n",
       "      <td>0.02</td>\n",
       "      <td>0.02</td>\n",
       "      <td>0.59</td>\n",
       "    </tr>\n",
       "    <tr>\n",
       "      <th>27</th>\n",
       "      <td>XGBClassifier</td>\n",
       "      <td>recall</td>\n",
       "      <td>test</td>\n",
       "      <td>0.27</td>\n",
       "      <td>0.27</td>\n",
       "      <td>0.25</td>\n",
       "      <td>0.39</td>\n",
       "    </tr>\n",
       "  </tbody>\n",
       "</table>\n",
       "</div>"
      ],
      "text/plain": [
       "                model_name  metric   set  naive  scaled   eng    cv\n",
       "3       LogisticRegression  recall  test   0.61    0.61  0.62  0.63\n",
       "19                     SVC  recall  test   0.72    0.65  0.58  0.61\n",
       "11  RandomForestClassifier  recall  test   0.02    0.02  0.02  0.59\n",
       "27           XGBClassifier  recall  test   0.27    0.27  0.25  0.39"
      ]
     },
     "execution_count": 114,
     "metadata": {},
     "output_type": "execute_result"
    }
   ],
   "source": [
    "# sort the models based on their roc_auc score for the test set:\n",
    "scores.query('set==\"test\" & metric==\"recall\"').sort_values(by='cv', ascending=False).round(2)"
   ]
  },
  {
   "cell_type": "code",
   "execution_count": null,
   "id": "9ae8ef0d",
   "metadata": {},
   "outputs": [],
   "source": [
    "\"\"\"\n",
    "We can see by comparing the scores before and after calibration, that they \n",
    "did not change much. \n",
    "\n",
    "But the function of the calibration is to affects how the model predict \n",
    "probabilities are distributed and aligns them with the actual witnessed \n",
    "probabilities.\n",
    "\"\"\""
   ]
  },
  {
   "cell_type": "code",
   "execution_count": 116,
   "id": "1e30a3b1",
   "metadata": {},
   "outputs": [
    {
     "data": {
      "text/plain": [
       "(0.0, 1.0)"
      ]
     },
     "execution_count": 116,
     "metadata": {},
     "output_type": "execute_result"
    },
    {
     "data": {
      "image/png": "[encoded data removed]",
      "text/plain": [
       "<Figure size 1080x288 with 2 Axes>"
      ]
     },
     "metadata": {
      "needs_background": "light"
     },
     "output_type": "display_data"
    }
   ],
   "source": [
    "probas_cv = pd.DataFrame({\n",
    "    \"LogisticRegression\" : lr_cv.predict_proba(X_test_eng)[:,1],\n",
    "    \"RandomForest\" : rf_cv.predict_proba(X_test_eng)[:,1],\n",
    "    \"SVC\":svc_cv.predict_proba(X_test_eng)[:,1],\n",
    "    \"XGBooster\":xgb_cv.predict_proba(X_test_eng)[:,1]\n",
    "})\n",
    "\n",
    "#create a dataframe with the probabilities AFTER calibration\n",
    "probas_cal = pd.DataFrame({\n",
    "    \"LogisticRegression\" : lr_cal.predict_proba(X_test_eng)[:,1],\n",
    "    \"RandomForest\" : rf_cal.predict_proba(X_test_eng)[:,1],\n",
    "    \"SVC\":svc_cal.predict_proba(X_test_eng)[:,1],\n",
    "    \"XGBooster\":xgb_cal.predict_proba(X_test_eng)[:,1]\n",
    "})\n",
    "\n",
    "#draw the stripplots\n",
    "fig, axes = plt.subplots(1,2, figsize=(15,4))\n",
    "sns.stripplot(data=probas_cv, size=1, ax=axes[0])\n",
    "axes[0].set_title('Probabilities distribution before calibration')\n",
    "axes[0].set_ylim(0,1)\n",
    "\n",
    "sns.stripplot(data=probas_cal, size=1, ax=axes[1])\n",
    "axes[1].set_title('Probabilities distribution after calibration')\n",
    "axes[1].set_ylim(0,1)"
   ]
  },
  {
   "cell_type": "code",
   "execution_count": null,
   "id": "58c57859",
   "metadata": {},
   "outputs": [],
   "source": [
    "\"\"\"\n",
    "Before the calibration, each model had some preference about the \n",
    "probabilities it produces: for example, XGBoooster never seems to be \n",
    "confident about its prediction, they all fall between 30% and 70% certainty.\n",
    "SVC on the other hand is very confident about predicting class 0 and never \n",
    "goes above 50% confidence for class 1. Logistic, the best model seen, \n",
    "goes all the way up and down but never predicts with more than 90% \n",
    "confidence for either class.\n",
    "\"\"\""
   ]
  },
  {
   "cell_type": "code",
   "execution_count": null,
   "id": "4155122b",
   "metadata": {},
   "outputs": [],
   "source": [
    "#ANSWER 3\n",
    "\n",
    "\"\"\"\n",
    "The best model to predict the probability of a loan not being fully paid \n",
    "seems to be: LogisticRegression Classifier, with marginally better \n",
    "performance than SVC and Random Forest.\n",
    "\n",
    "- Since the model predicts \"not paid\" and the question is about the \n",
    "probability of \"being paid\", we would have to select the model's probability\n",
    "for class 0, instead of class 1.\n",
    "- Also, the importance of hyper-parameter tuning was obvious, especially in \n",
    "the case of RandomForest, whose lousy performance in the beginning was \n",
    "catapulted after the tuning.\n",
    "- Finally, the performance of even the best model is not very good; this was \n",
    "more or less expected from the beginning, when we saw absence of explanatory\n",
    "strength for any features, no clear grouping, no correlation to the target \n",
    "feature, etc.\n",
    "\"\"\""
   ]
  }
 ],
 "metadata": {
  "kernelspec": {
   "display_name": "Python 3",
   "language": "python",
   "name": "python3"
  },
  "language_info": {
   "codemirror_mode": {
    "name": "ipython",
    "version": 3
   },
   "file_extension": ".py",
   "mimetype": "text/x-python",
   "name": "python",
   "nbconvert_exporter": "python",
   "pygments_lexer": "ipython3",
   "version": "3.8.8"
  }
 },
 "nbformat": 4,
 "nbformat_minor": 5
}
